{
  "nbformat": 4,
  "nbformat_minor": 0,
  "metadata": {
    "colab": {
      "name": "[ML]Titanic_Survived_probability.ipynb",
      "provenance": [],
      "collapsed_sections": [
        "U_f9eNaJy6As"
      ],
      "mount_file_id": "12WMOoyP9LLU6lkhKSJjoc4sieuRyDjy4",
      "authorship_tag": "ABX9TyPyvOp7LZ5ZvbT2tkTSRxHy",
      "include_colab_link": true
    },
    "kernelspec": {
      "name": "python3",
      "display_name": "Python 3"
    }
  },
  "cells": [
    {
      "cell_type": "markdown",
      "metadata": {
        "id": "view-in-github",
        "colab_type": "text"
      },
      "source": [
        "<a href=\"https://colab.research.google.com/github/yeseul98/ML_Titanic/blob/master/%5BML%5DTitanic_Survived_probability.ipynb\" target=\"_parent\"><img src=\"https://colab.research.google.com/assets/colab-badge.svg\" alt=\"Open In Colab\"/></a>"
      ]
    },
    {
      "cell_type": "markdown",
      "metadata": {
        "id": "U_f9eNaJy6As",
        "colab_type": "text"
      },
      "source": [
        "##데이터를 불러올 때 필요한 서버 설정"
      ]
    },
    {
      "cell_type": "code",
      "metadata": {
        "id": "IqNnRpoNyqnf",
        "colab_type": "code",
        "colab": {
          "base_uri": "https://localhost:8080/",
          "height": 230
        },
        "outputId": "6914e494-63b6-4873-94fb-4fca33792bcd"
      },
      "source": [
        "pip install kaggle --upgrade"
      ],
      "execution_count": null,
      "outputs": [
        {
          "output_type": "stream",
          "text": [
            "Requirement already up-to-date: kaggle in /usr/local/lib/python3.6/dist-packages (1.5.6)\n",
            "Requirement already satisfied, skipping upgrade: requests in /usr/local/lib/python3.6/dist-packages (from kaggle) (2.23.0)\n",
            "Requirement already satisfied, skipping upgrade: python-slugify in /usr/local/lib/python3.6/dist-packages (from kaggle) (4.0.0)\n",
            "Requirement already satisfied, skipping upgrade: certifi in /usr/local/lib/python3.6/dist-packages (from kaggle) (2020.6.20)\n",
            "Requirement already satisfied, skipping upgrade: urllib3<1.25,>=1.21.1 in /usr/local/lib/python3.6/dist-packages (from kaggle) (1.24.3)\n",
            "Requirement already satisfied, skipping upgrade: python-dateutil in /usr/local/lib/python3.6/dist-packages (from kaggle) (2.8.1)\n",
            "Requirement already satisfied, skipping upgrade: six>=1.10 in /usr/local/lib/python3.6/dist-packages (from kaggle) (1.12.0)\n",
            "Requirement already satisfied, skipping upgrade: tqdm in /usr/local/lib/python3.6/dist-packages (from kaggle) (4.41.1)\n",
            "Requirement already satisfied, skipping upgrade: chardet<4,>=3.0.2 in /usr/local/lib/python3.6/dist-packages (from requests->kaggle) (3.0.4)\n",
            "Requirement already satisfied, skipping upgrade: idna<3,>=2.5 in /usr/local/lib/python3.6/dist-packages (from requests->kaggle) (2.9)\n",
            "Requirement already satisfied, skipping upgrade: text-unidecode>=1.3 in /usr/local/lib/python3.6/dist-packages (from python-slugify->kaggle) (1.3)\n"
          ],
          "name": "stdout"
        }
      ]
    },
    {
      "cell_type": "code",
      "metadata": {
        "id": "j2pzpn5ZzAaB",
        "colab_type": "code",
        "colab": {
          "base_uri": "https://localhost:8080/",
          "height": 34
        },
        "outputId": "86f18017-891b-4895-afb8-5a02c637ae2c"
      },
      "source": [
        "!pwd"
      ],
      "execution_count": null,
      "outputs": [
        {
          "output_type": "stream",
          "text": [
            "/content\n"
          ],
          "name": "stdout"
        }
      ]
    },
    {
      "cell_type": "code",
      "metadata": {
        "id": "wcR0KCPxzGOK",
        "colab_type": "code",
        "colab": {}
      },
      "source": [
        "!mkdir -p ~/.kaggle\n",
        "!cp \"/content/drive/My Drive/[MachineLearning]kaggle/kaggle.json\" ~/.kaggle/\n",
        "!chmod 600 ~/.kaggle/kaggle.json"
      ],
      "execution_count": null,
      "outputs": []
    },
    {
      "cell_type": "code",
      "metadata": {
        "id": "2ZA8RXAFzH0Q",
        "colab_type": "code",
        "colab": {
          "base_uri": "https://localhost:8080/",
          "height": 34
        },
        "outputId": "a0ccb1b7-2083-4e60-97b7-43b789577274"
      },
      "source": [
        "!kaggle -v"
      ],
      "execution_count": null,
      "outputs": [
        {
          "output_type": "stream",
          "text": [
            "Kaggle API 1.5.4\n"
          ],
          "name": "stdout"
        }
      ]
    },
    {
      "cell_type": "code",
      "metadata": {
        "id": "QTrc-yfbzLMx",
        "colab_type": "code",
        "colab": {
          "base_uri": "https://localhost:8080/",
          "height": 442
        },
        "outputId": "91c0654c-c1d9-4741-ddac-d1cbecae0ab7"
      },
      "source": [
        "!kaggle competitions list"
      ],
      "execution_count": null,
      "outputs": [
        {
          "output_type": "stream",
          "text": [
            "Warning: Looks like you're using an outdated API Version, please consider updating (server 1.5.6 / client 1.5.4)\n",
            "ref                                            deadline             category            reward  teamCount  userHasEntered  \n",
            "---------------------------------------------  -------------------  ---------------  ---------  ---------  --------------  \n",
            "tpu-getting-started                            2030-06-03 23:59:00  Getting Started      Kudos        121           False  \n",
            "digit-recognizer                               2030-01-01 00:00:00  Getting Started  Knowledge       3073           False  \n",
            "titanic                                        2030-01-01 00:00:00  Getting Started  Knowledge      23341            True  \n",
            "house-prices-advanced-regression-techniques    2030-01-01 00:00:00  Getting Started  Knowledge       5128           False  \n",
            "connectx                                       2030-01-01 00:00:00  Getting Started  Knowledge        661           False  \n",
            "nlp-getting-started                            2030-01-01 00:00:00  Getting Started      Kudos       1503           False  \n",
            "competitive-data-science-predict-future-sales  2020-12-31 23:59:00  Playground           Kudos       7599           False  \n",
            "halite                                         2020-09-15 23:59:00  Featured              Swag        510           False  \n",
            "birdsong-recognition                           2020-09-15 23:59:00  Research           $25,000        234           False  \n",
            "landmark-retrieval-2020                        2020-08-17 23:59:00  Research           $25,000         47           False  \n",
            "siim-isic-melanoma-classification              2020-08-17 23:59:00  Featured           $30,000       1599           False  \n",
            "global-wheat-detection                         2020-08-04 23:59:00  Research           $15,000       1316           False  \n",
            "open-images-object-detection-rvc-2020          2020-07-31 16:00:00  Playground       Knowledge         45           False  \n",
            "open-images-instance-segmentation-rvc-2020     2020-07-31 16:00:00  Playground       Knowledge          9           False  \n",
            "hashcode-photo-slideshow                       2020-07-27 23:59:00  Playground       Knowledge         48           False  \n",
            "prostate-cancer-grade-assessment               2020-07-22 23:59:00  Featured           $25,000        742           False  \n",
            "alaska2-image-steganalysis                     2020-07-20 23:59:00  Research           $25,000        830           False  \n",
            "m5-forecasting-accuracy                        2020-06-30 23:59:00  Featured           $50,000       5558           False  \n",
            "m5-forecasting-uncertainty                     2020-06-30 23:59:00  Featured           $50,000        909           False  \n",
            "trends-assessment-prediction                   2020-06-29 23:59:00  Research           $25,000       1047           False  \n"
          ],
          "name": "stdout"
        }
      ]
    },
    {
      "cell_type": "code",
      "metadata": {
        "id": "Aked-_vbzLqg",
        "colab_type": "code",
        "colab": {
          "base_uri": "https://localhost:8080/",
          "height": 213
        },
        "outputId": "b4313004-5fd4-4f85-8e2e-7f5dde12bf16"
      },
      "source": [
        "!kaggle competitions download -c titanic"
      ],
      "execution_count": null,
      "outputs": [
        {
          "output_type": "stream",
          "text": [
            "Warning: Looks like you're using an outdated API Version, please consider updating (server 1.5.6 / client 1.5.4)\n",
            "Downloading train.csv to /content\n",
            "\r  0% 0.00/59.8k [00:00<?, ?B/s]\n",
            "100% 59.8k/59.8k [00:00<00:00, 22.7MB/s]\n",
            "Downloading test.csv to /content\n",
            "  0% 0.00/28.0k [00:00<?, ?B/s]\n",
            "100% 28.0k/28.0k [00:00<00:00, 25.7MB/s]\n",
            "Downloading gender_submission.csv to /content\n",
            "  0% 0.00/3.18k [00:00<?, ?B/s]\n",
            "100% 3.18k/3.18k [00:00<00:00, 2.67MB/s]\n"
          ],
          "name": "stdout"
        }
      ]
    },
    {
      "cell_type": "markdown",
      "metadata": {
        "id": "9ZLRhfKzzO1U",
        "colab_type": "text"
      },
      "source": [
        "##1. 타이타닉 파일 불러오기 "
      ]
    },
    {
      "cell_type": "code",
      "metadata": {
        "id": "zlnbFFi9zkSr",
        "colab_type": "code",
        "colab": {}
      },
      "source": [
        "import numpy as np\n",
        "import pandas as pd\n",
        "import matplotlib.pyplot as plt\n",
        "import matplotlib as plt"
      ],
      "execution_count": null,
      "outputs": []
    },
    {
      "cell_type": "code",
      "metadata": {
        "id": "tycDOdT7zUnf",
        "colab_type": "code",
        "colab": {}
      },
      "source": [
        "df_train = pd.read_csv('./train.csv')\n",
        "df_test = pd.read_csv('./test.csv')"
      ],
      "execution_count": null,
      "outputs": []
    },
    {
      "cell_type": "markdown",
      "metadata": {
        "id": "6dy0pU3q5ukC",
        "colab_type": "text"
      },
      "source": [
        "(1) 파일\n",
        "\n",
        "* train.csv : 분석해야하는 파일, 모델을 학습시킬 때 사용됩니다.\n",
        "* test.csv : 학습한 모델을 가지고 예측해야 합니다. "
      ]
    },
    {
      "cell_type": "markdown",
      "metadata": {
        "id": "Kl7q0CrC0ZHJ",
        "colab_type": "text"
      },
      "source": [
        "(2) 데이터 확인\n",
        "* .head()\n",
        "\n",
        " : 데이터의 정보를 확인 할 수 있다.\n",
        "\n",
        " : ()속에 갯수를 지정하지 않으면 기본적으로 5개의 list를 보여줌\n",
        "\n",
        "\n",
        "\n"
      ]
    },
    {
      "cell_type": "code",
      "metadata": {
        "id": "XLQ6Aye0zlxE",
        "colab_type": "code",
        "colab": {
          "base_uri": "https://localhost:8080/",
          "height": 484
        },
        "outputId": "3bdc9c2c-b9ce-47ae-99f2-3bf334651986"
      },
      "source": [
        "df_train.head(5)"
      ],
      "execution_count": null,
      "outputs": [
        {
          "output_type": "execute_result",
          "data": {
            "text/html": [
              "<div>\n",
              "<style scoped>\n",
              "    .dataframe tbody tr th:only-of-type {\n",
              "        vertical-align: middle;\n",
              "    }\n",
              "\n",
              "    .dataframe tbody tr th {\n",
              "        vertical-align: top;\n",
              "    }\n",
              "\n",
              "    .dataframe thead th {\n",
              "        text-align: right;\n",
              "    }\n",
              "</style>\n",
              "<table border=\"1\" class=\"dataframe\">\n",
              "  <thead>\n",
              "    <tr style=\"text-align: right;\">\n",
              "      <th></th>\n",
              "      <th>PassengerId</th>\n",
              "      <th>Survived</th>\n",
              "      <th>Pclass</th>\n",
              "      <th>Name</th>\n",
              "      <th>Sex</th>\n",
              "      <th>Age</th>\n",
              "      <th>SibSp</th>\n",
              "      <th>Parch</th>\n",
              "      <th>Ticket</th>\n",
              "      <th>Fare</th>\n",
              "      <th>Cabin</th>\n",
              "      <th>Embarked</th>\n",
              "    </tr>\n",
              "  </thead>\n",
              "  <tbody>\n",
              "    <tr>\n",
              "      <th>0</th>\n",
              "      <td>1</td>\n",
              "      <td>0</td>\n",
              "      <td>3</td>\n",
              "      <td>Braund, Mr. Owen Harris</td>\n",
              "      <td>male</td>\n",
              "      <td>22.0</td>\n",
              "      <td>1</td>\n",
              "      <td>0</td>\n",
              "      <td>A/5 21171</td>\n",
              "      <td>7.2500</td>\n",
              "      <td>NaN</td>\n",
              "      <td>S</td>\n",
              "    </tr>\n",
              "    <tr>\n",
              "      <th>1</th>\n",
              "      <td>2</td>\n",
              "      <td>1</td>\n",
              "      <td>1</td>\n",
              "      <td>Cumings, Mrs. John Bradley (Florence Briggs Th...</td>\n",
              "      <td>female</td>\n",
              "      <td>38.0</td>\n",
              "      <td>1</td>\n",
              "      <td>0</td>\n",
              "      <td>PC 17599</td>\n",
              "      <td>71.2833</td>\n",
              "      <td>C85</td>\n",
              "      <td>C</td>\n",
              "    </tr>\n",
              "    <tr>\n",
              "      <th>2</th>\n",
              "      <td>3</td>\n",
              "      <td>1</td>\n",
              "      <td>3</td>\n",
              "      <td>Heikkinen, Miss. Laina</td>\n",
              "      <td>female</td>\n",
              "      <td>26.0</td>\n",
              "      <td>0</td>\n",
              "      <td>0</td>\n",
              "      <td>STON/O2. 3101282</td>\n",
              "      <td>7.9250</td>\n",
              "      <td>NaN</td>\n",
              "      <td>S</td>\n",
              "    </tr>\n",
              "    <tr>\n",
              "      <th>3</th>\n",
              "      <td>4</td>\n",
              "      <td>1</td>\n",
              "      <td>1</td>\n",
              "      <td>Futrelle, Mrs. Jacques Heath (Lily May Peel)</td>\n",
              "      <td>female</td>\n",
              "      <td>35.0</td>\n",
              "      <td>1</td>\n",
              "      <td>0</td>\n",
              "      <td>113803</td>\n",
              "      <td>53.1000</td>\n",
              "      <td>C123</td>\n",
              "      <td>S</td>\n",
              "    </tr>\n",
              "    <tr>\n",
              "      <th>4</th>\n",
              "      <td>5</td>\n",
              "      <td>0</td>\n",
              "      <td>3</td>\n",
              "      <td>Allen, Mr. William Henry</td>\n",
              "      <td>male</td>\n",
              "      <td>35.0</td>\n",
              "      <td>0</td>\n",
              "      <td>0</td>\n",
              "      <td>373450</td>\n",
              "      <td>8.0500</td>\n",
              "      <td>NaN</td>\n",
              "      <td>S</td>\n",
              "    </tr>\n",
              "  </tbody>\n",
              "</table>\n",
              "</div>"
            ],
            "text/plain": [
              "   PassengerId  Survived  Pclass  ...     Fare Cabin  Embarked\n",
              "0            1         0       3  ...   7.2500   NaN         S\n",
              "1            2         1       1  ...  71.2833   C85         C\n",
              "2            3         1       3  ...   7.9250   NaN         S\n",
              "3            4         1       1  ...  53.1000  C123         S\n",
              "4            5         0       3  ...   8.0500   NaN         S\n",
              "\n",
              "[5 rows x 12 columns]"
            ]
          },
          "metadata": {
            "tags": []
          },
          "execution_count": 9
        }
      ]
    },
    {
      "cell_type": "code",
      "metadata": {
        "id": "gZJgqX5a044D",
        "colab_type": "code",
        "colab": {
          "base_uri": "https://localhost:8080/",
          "height": 434
        },
        "outputId": "0f6e1b1f-cb56-428d-fa66-420471a57897"
      },
      "source": [
        "df_test.head()"
      ],
      "execution_count": null,
      "outputs": [
        {
          "output_type": "execute_result",
          "data": {
            "text/html": [
              "<div>\n",
              "<style scoped>\n",
              "    .dataframe tbody tr th:only-of-type {\n",
              "        vertical-align: middle;\n",
              "    }\n",
              "\n",
              "    .dataframe tbody tr th {\n",
              "        vertical-align: top;\n",
              "    }\n",
              "\n",
              "    .dataframe thead th {\n",
              "        text-align: right;\n",
              "    }\n",
              "</style>\n",
              "<table border=\"1\" class=\"dataframe\">\n",
              "  <thead>\n",
              "    <tr style=\"text-align: right;\">\n",
              "      <th></th>\n",
              "      <th>PassengerId</th>\n",
              "      <th>Pclass</th>\n",
              "      <th>Name</th>\n",
              "      <th>Sex</th>\n",
              "      <th>Age</th>\n",
              "      <th>SibSp</th>\n",
              "      <th>Parch</th>\n",
              "      <th>Ticket</th>\n",
              "      <th>Fare</th>\n",
              "      <th>Cabin</th>\n",
              "      <th>Embarked</th>\n",
              "    </tr>\n",
              "  </thead>\n",
              "  <tbody>\n",
              "    <tr>\n",
              "      <th>0</th>\n",
              "      <td>892</td>\n",
              "      <td>3</td>\n",
              "      <td>Kelly, Mr. James</td>\n",
              "      <td>male</td>\n",
              "      <td>34.5</td>\n",
              "      <td>0</td>\n",
              "      <td>0</td>\n",
              "      <td>330911</td>\n",
              "      <td>7.8292</td>\n",
              "      <td>NaN</td>\n",
              "      <td>Q</td>\n",
              "    </tr>\n",
              "    <tr>\n",
              "      <th>1</th>\n",
              "      <td>893</td>\n",
              "      <td>3</td>\n",
              "      <td>Wilkes, Mrs. James (Ellen Needs)</td>\n",
              "      <td>female</td>\n",
              "      <td>47.0</td>\n",
              "      <td>1</td>\n",
              "      <td>0</td>\n",
              "      <td>363272</td>\n",
              "      <td>7.0000</td>\n",
              "      <td>NaN</td>\n",
              "      <td>S</td>\n",
              "    </tr>\n",
              "    <tr>\n",
              "      <th>2</th>\n",
              "      <td>894</td>\n",
              "      <td>2</td>\n",
              "      <td>Myles, Mr. Thomas Francis</td>\n",
              "      <td>male</td>\n",
              "      <td>62.0</td>\n",
              "      <td>0</td>\n",
              "      <td>0</td>\n",
              "      <td>240276</td>\n",
              "      <td>9.6875</td>\n",
              "      <td>NaN</td>\n",
              "      <td>Q</td>\n",
              "    </tr>\n",
              "    <tr>\n",
              "      <th>3</th>\n",
              "      <td>895</td>\n",
              "      <td>3</td>\n",
              "      <td>Wirz, Mr. Albert</td>\n",
              "      <td>male</td>\n",
              "      <td>27.0</td>\n",
              "      <td>0</td>\n",
              "      <td>0</td>\n",
              "      <td>315154</td>\n",
              "      <td>8.6625</td>\n",
              "      <td>NaN</td>\n",
              "      <td>S</td>\n",
              "    </tr>\n",
              "    <tr>\n",
              "      <th>4</th>\n",
              "      <td>896</td>\n",
              "      <td>3</td>\n",
              "      <td>Hirvonen, Mrs. Alexander (Helga E Lindqvist)</td>\n",
              "      <td>female</td>\n",
              "      <td>22.0</td>\n",
              "      <td>1</td>\n",
              "      <td>1</td>\n",
              "      <td>3101298</td>\n",
              "      <td>12.2875</td>\n",
              "      <td>NaN</td>\n",
              "      <td>S</td>\n",
              "    </tr>\n",
              "  </tbody>\n",
              "</table>\n",
              "</div>"
            ],
            "text/plain": [
              "   PassengerId  Pclass  ... Cabin Embarked\n",
              "0          892       3  ...   NaN        Q\n",
              "1          893       3  ...   NaN        S\n",
              "2          894       2  ...   NaN        Q\n",
              "3          895       3  ...   NaN        S\n",
              "4          896       3  ...   NaN        S\n",
              "\n",
              "[5 rows x 11 columns]"
            ]
          },
          "metadata": {
            "tags": []
          },
          "execution_count": 10
        }
      ]
    },
    {
      "cell_type": "markdown",
      "metadata": {
        "id": "4Wc9eC5L0wkf",
        "colab_type": "text"
      },
      "source": [
        "* .info()\n",
        "\n",
        " : 데이터의 정보를 제공해 줌"
      ]
    },
    {
      "cell_type": "code",
      "metadata": {
        "id": "cKWRI3Qy0w_r",
        "colab_type": "code",
        "colab": {
          "base_uri": "https://localhost:8080/",
          "height": 351
        },
        "outputId": "9e259026-ce50-4134-fc30-b4998460d076"
      },
      "source": [
        "df_train.info()"
      ],
      "execution_count": null,
      "outputs": [
        {
          "output_type": "stream",
          "text": [
            "<class 'pandas.core.frame.DataFrame'>\n",
            "RangeIndex: 891 entries, 0 to 890\n",
            "Data columns (total 12 columns):\n",
            " #   Column       Non-Null Count  Dtype  \n",
            "---  ------       --------------  -----  \n",
            " 0   PassengerId  891 non-null    int64  \n",
            " 1   Survived     891 non-null    int64  \n",
            " 2   Pclass       891 non-null    int64  \n",
            " 3   Name         891 non-null    object \n",
            " 4   Sex          891 non-null    object \n",
            " 5   Age          714 non-null    float64\n",
            " 6   SibSp        891 non-null    int64  \n",
            " 7   Parch        891 non-null    int64  \n",
            " 8   Ticket       891 non-null    object \n",
            " 9   Fare         891 non-null    float64\n",
            " 10  Cabin        204 non-null    object \n",
            " 11  Embarked     889 non-null    object \n",
            "dtypes: float64(2), int64(5), object(5)\n",
            "memory usage: 83.7+ KB\n"
          ],
          "name": "stdout"
        }
      ]
    },
    {
      "cell_type": "code",
      "metadata": {
        "id": "_6LRBVnM04HV",
        "colab_type": "code",
        "colab": {
          "base_uri": "https://localhost:8080/",
          "height": 334
        },
        "outputId": "4520bac1-a5bf-4d21-8223-c1c87175ac71"
      },
      "source": [
        "df_test.info()"
      ],
      "execution_count": null,
      "outputs": [
        {
          "output_type": "stream",
          "text": [
            "<class 'pandas.core.frame.DataFrame'>\n",
            "RangeIndex: 418 entries, 0 to 417\n",
            "Data columns (total 11 columns):\n",
            " #   Column       Non-Null Count  Dtype  \n",
            "---  ------       --------------  -----  \n",
            " 0   PassengerId  418 non-null    int64  \n",
            " 1   Pclass       418 non-null    int64  \n",
            " 2   Name         418 non-null    object \n",
            " 3   Sex          418 non-null    object \n",
            " 4   Age          332 non-null    float64\n",
            " 5   SibSp        418 non-null    int64  \n",
            " 6   Parch        418 non-null    int64  \n",
            " 7   Ticket       418 non-null    object \n",
            " 8   Fare         417 non-null    float64\n",
            " 9   Cabin        91 non-null     object \n",
            " 10  Embarked     418 non-null    object \n",
            "dtypes: float64(2), int64(4), object(5)\n",
            "memory usage: 36.0+ KB\n"
          ],
          "name": "stdout"
        }
      ]
    },
    {
      "cell_type": "markdown",
      "metadata": {
        "id": "Ocx_a-YT7NQm",
        "colab_type": "text"
      },
      "source": [
        "(4) 데이터 내용\n",
        "\n",
        "* PassengerId : 승객 수\n",
        "\n",
        "* Survived : 생존 여부 (0: 사망, 1: 생존)     \n",
        "* Pclass : 좌석 등급      \n",
        "* Name : 이름        \n",
        "* Sex  : 성별        \n",
        "* Age  : 나이       \n",
        "* SibSp  : 함께  탑승한 형제 / 배우자의 수   \n",
        "* Parch :   함께 탑승한 부모 / 아이의 수  \n",
        "* Ticket  : 티켓 번호     \n",
        "* Fare : 탑승 요금        \n",
        "* Cabin  : 객실 번호      \n",
        "* Embarked : 선착장"
      ]
    },
    {
      "cell_type": "markdown",
      "metadata": {
        "id": "D3xaLubV0-3q",
        "colab_type": "text"
      },
      "source": [
        "##2. 전체데이터 시각화하기"
      ]
    },
    {
      "cell_type": "markdown",
      "metadata": {
        "id": "cluBFp8e2Vla",
        "colab_type": "text"
      },
      "source": [
        "* 히스토그램을 이용해서 숫자로 구성된 데이터의 형태를 살펴본다.\n",
        " \n",
        " : 숫자로 이루어진 데이터만 가능하다.\n",
        "\n"
      ]
    },
    {
      "cell_type": "code",
      "metadata": {
        "id": "LqNpF22t2UP2",
        "colab_type": "code",
        "colab": {
          "base_uri": "https://localhost:8080/",
          "height": 497
        },
        "outputId": "35af212e-abd6-4a1f-af5f-ca15882ef3ca"
      },
      "source": [
        "%matplotlib inline\n",
        "import matplotlib.pyplot as plt\n",
        "df_train.hist(bins=50, figsize=(20,15))\n",
        "plt.show()"
      ],
      "execution_count": null,
      "outputs": [
        {
          "output_type": "display_data",
          "data": {
            "image/png": "[encoded data removed]",
            "text/plain": [
              "<Figure size 1440x1080 with 9 Axes>"
            ]
          },
          "metadata": {
            "tags": [],
            "needs_background": "light"
          }
        }
      ]
    },
    {
      "cell_type": "code",
      "metadata": {
        "id": "8grj2bZW3yn8",
        "colab_type": "code",
        "colab": {
          "base_uri": "https://localhost:8080/",
          "height": 758
        },
        "outputId": "f2f79de9-1a4f-4694-ae07-5bc43f119716"
      },
      "source": [
        "from pandas.plotting import scatter_matrix\n",
        "\n",
        "attributes = [\"Survived\",\n",
        "              \"Pclass\",\n",
        "              \"SibSp\",\n",
        "              \"Parch\"]\n",
        "scatter_matrix(df_train[attributes], figsize=(12,9))"
      ],
      "execution_count": null,
      "outputs": [
        {
          "output_type": "execute_result",
          "data": {
            "text/plain": [
              "array([[<matplotlib.axes._subplots.AxesSubplot object at 0x7ff285449b38>,\n",
              "        <matplotlib.axes._subplots.AxesSubplot object at 0x7ff2854607b8>,\n",
              "        <matplotlib.axes._subplots.AxesSubplot object at 0x7ff285474a20>,\n",
              "        <matplotlib.axes._subplots.AxesSubplot object at 0x7ff285421b70>],\n",
              "       [<matplotlib.axes._subplots.AxesSubplot object at 0x7ff2853d2ef0>,\n",
              "        <matplotlib.axes._subplots.AxesSubplot object at 0x7ff2853932b0>,\n",
              "        <matplotlib.axes._subplots.AxesSubplot object at 0x7ff2853c6630>,\n",
              "        <matplotlib.axes._subplots.AxesSubplot object at 0x7ff285377978>],\n",
              "       [<matplotlib.axes._subplots.AxesSubplot object at 0x7ff2853779e8>,\n",
              "        <matplotlib.axes._subplots.AxesSubplot object at 0x7ff2852e70f0>,\n",
              "        <matplotlib.axes._subplots.AxesSubplot object at 0x7ff285299470>,\n",
              "        <matplotlib.axes._subplots.AxesSubplot object at 0x7ff28524b7f0>],\n",
              "       [<matplotlib.axes._subplots.AxesSubplot object at 0x7ff28527cb70>,\n",
              "        <matplotlib.axes._subplots.AxesSubplot object at 0x7ff285231ef0>,\n",
              "        <matplotlib.axes._subplots.AxesSubplot object at 0x7ff2851ef2b0>,\n",
              "        <matplotlib.axes._subplots.AxesSubplot object at 0x7ff2851a1630>]],\n",
              "      dtype=object)"
            ]
          },
          "metadata": {
            "tags": []
          },
          "execution_count": 14
        },
        {
          "output_type": "display_data",
          "data": {
            "image/png": "[encoded data removed]",
            "text/plain": [
              "<Figure size 864x648 with 16 Axes>"
            ]
          },
          "metadata": {
            "tags": [],
            "needs_background": "light"
          }
        }
      ]
    },
    {
      "cell_type": "markdown",
      "metadata": {
        "id": "yFGUnU6O33kl",
        "colab_type": "text"
      },
      "source": [
        "##2-1. 데이터 전처리 후 시각화"
      ]
    },
    {
      "cell_type": "code",
      "metadata": {
        "id": "WkQBn8SN4exe",
        "colab_type": "code",
        "colab": {
          "base_uri": "https://localhost:8080/",
          "height": 72
        },
        "outputId": "bc204632-769e-4518-9409-c3e68af4723f"
      },
      "source": [
        "import seaborn as sns"
      ],
      "execution_count": null,
      "outputs": [
        {
          "output_type": "stream",
          "text": [
            "/usr/local/lib/python3.6/dist-packages/statsmodels/tools/_testing.py:19: FutureWarning: pandas.util.testing is deprecated. Use the functions in the public API at pandas.testing instead.\n",
            "  import pandas.util.testing as tm\n"
          ],
          "name": "stderr"
        }
      ]
    },
    {
      "cell_type": "markdown",
      "metadata": {
        "id": "ATgLf_YOQEDf",
        "colab_type": "text"
      },
      "source": [
        "(1) 데이터 추가하기 "
      ]
    },
    {
      "cell_type": "markdown",
      "metadata": {
        "id": "FoyPsoNE9age",
        "colab_type": "text"
      },
      "source": [
        "* Person데이터를 만든다.\n",
        "\n",
        " : Sex과 Age를 이용해서 male, female, children 으로 분류\n",
        "\n",
        " : Age_14 미만는 children으로 나머지 데이터는 그대로 성별을 유지한다."
      ]
    },
    {
      "cell_type": "code",
      "metadata": {
        "id": "F5Zysv2VQJCP",
        "colab_type": "code",
        "colab": {}
      },
      "source": [
        "def titanic_children(Passenger):\n",
        "  Age, Sex = Passenger\n",
        "  if Age <14:\n",
        "    return 'child'\n",
        "  else:\n",
        "    return Sex\n",
        "\n",
        "df_train['Person'] = df_train[['Age','Sex']].apply(titanic_children, axis=1)\n",
        "df_test['Person'] = df_train[['Age','Sex']].apply(titanic_children, axis=1)"
      ],
      "execution_count": null,
      "outputs": []
    },
    {
      "cell_type": "markdown",
      "metadata": {
        "id": "OdGOoXc_-B-a",
        "colab_type": "text"
      },
      "source": [
        "*  Person 데이터 만들기\n",
        "\n",
        " : Parch, SibSp를 이용해서 가족 구성원을 파악한 데이터를 만든다.\n",
        "\n",
        "  : 자신을 포함해야 하기 때문에 +1을 해야줘야 합니다."
      ]
    },
    {
      "cell_type": "code",
      "metadata": {
        "id": "LpgF-_qmQKW2",
        "colab_type": "code",
        "colab": {}
      },
      "source": [
        "df_train['Family'] = df_train['Parch'] + df_train['SibSp'] +1\n",
        "df_test['Family'] = df_test['Parch'] + df_test['SibSp'] +1"
      ],
      "execution_count": null,
      "outputs": []
    },
    {
      "cell_type": "markdown",
      "metadata": {
        "id": "nad8krDM-fEj",
        "colab_type": "text"
      },
      "source": [
        "*  데이터가 추가 되었는지 확인해줍니다."
      ]
    },
    {
      "cell_type": "code",
      "metadata": {
        "id": "zfenaWXzQfXZ",
        "colab_type": "code",
        "colab": {
          "base_uri": "https://localhost:8080/",
          "height": 386
        },
        "outputId": "e0b79a3f-b566-4194-b60a-f547b871bd68"
      },
      "source": [
        "df_train.info()"
      ],
      "execution_count": null,
      "outputs": [
        {
          "output_type": "stream",
          "text": [
            "<class 'pandas.core.frame.DataFrame'>\n",
            "RangeIndex: 891 entries, 0 to 890\n",
            "Data columns (total 14 columns):\n",
            " #   Column       Non-Null Count  Dtype  \n",
            "---  ------       --------------  -----  \n",
            " 0   PassengerId  891 non-null    int64  \n",
            " 1   Survived     891 non-null    int64  \n",
            " 2   Pclass       891 non-null    int64  \n",
            " 3   Name         891 non-null    object \n",
            " 4   Sex          891 non-null    object \n",
            " 5   Age          714 non-null    float64\n",
            " 6   SibSp        891 non-null    int64  \n",
            " 7   Parch        891 non-null    int64  \n",
            " 8   Ticket       891 non-null    object \n",
            " 9   Fare         891 non-null    float64\n",
            " 10  Cabin        204 non-null    object \n",
            " 11  Embarked     889 non-null    object \n",
            " 12  Person       891 non-null    object \n",
            " 13  Family       891 non-null    int64  \n",
            "dtypes: float64(2), int64(6), object(6)\n",
            "memory usage: 97.6+ KB\n"
          ],
          "name": "stdout"
        }
      ]
    },
    {
      "cell_type": "code",
      "metadata": {
        "id": "GFa2tDOTQgkn",
        "colab_type": "code",
        "colab": {
          "base_uri": "https://localhost:8080/",
          "height": 369
        },
        "outputId": "129b4114-885f-44aa-d23d-daeacfc62009"
      },
      "source": [
        "df_test.info()"
      ],
      "execution_count": null,
      "outputs": [
        {
          "output_type": "stream",
          "text": [
            "<class 'pandas.core.frame.DataFrame'>\n",
            "RangeIndex: 418 entries, 0 to 417\n",
            "Data columns (total 13 columns):\n",
            " #   Column       Non-Null Count  Dtype  \n",
            "---  ------       --------------  -----  \n",
            " 0   PassengerId  418 non-null    int64  \n",
            " 1   Pclass       418 non-null    int64  \n",
            " 2   Name         418 non-null    object \n",
            " 3   Sex          418 non-null    object \n",
            " 4   Age          332 non-null    float64\n",
            " 5   SibSp        418 non-null    int64  \n",
            " 6   Parch        418 non-null    int64  \n",
            " 7   Ticket       418 non-null    object \n",
            " 8   Fare         417 non-null    float64\n",
            " 9   Cabin        91 non-null     object \n",
            " 10  Embarked     418 non-null    object \n",
            " 11  Person       418 non-null    object \n",
            " 12  Family       418 non-null    int64  \n",
            "dtypes: float64(2), int64(5), object(6)\n",
            "memory usage: 42.6+ KB\n"
          ],
          "name": "stdout"
        }
      ]
    },
    {
      "cell_type": "markdown",
      "metadata": {
        "id": "qZkxOyjlF2Id",
        "colab_type": "text"
      },
      "source": [
        "(2) NUll data 확인\n",
        "\n",
        " *  Age, Cabin, Embarked에 비어있는 값이 존재합니다.\n",
        "\n",
        " : NULL 값이 있으면 정확성이 떨어지고 모델링 할 때 오류가 발생할 수 있습니다."
      ]
    },
    {
      "cell_type": "code",
      "metadata": {
        "id": "vsIyRIjNF1kb",
        "colab_type": "code",
        "colab": {
          "base_uri": "https://localhost:8080/",
          "height": 263
        },
        "outputId": "105aff05-e4e5-460e-dd52-d378ba094c07"
      },
      "source": [
        "for col in df_train.columns:\n",
        "  msg = 'column: {:>10}\\t percent of NAN value: {:.2f}%'.format(col, 100* (df_train[col].isnull().sum() / df_train[col].shape[0]) )\n",
        "  print(msg)"
      ],
      "execution_count": null,
      "outputs": [
        {
          "output_type": "stream",
          "text": [
            "column: PassengerId\t percent of NAN value: 0.00%\n",
            "column:   Survived\t percent of NAN value: 0.00%\n",
            "column:     Pclass\t percent of NAN value: 0.00%\n",
            "column:       Name\t percent of NAN value: 0.00%\n",
            "column:        Sex\t percent of NAN value: 0.00%\n",
            "column:        Age\t percent of NAN value: 19.87%\n",
            "column:      SibSp\t percent of NAN value: 0.00%\n",
            "column:      Parch\t percent of NAN value: 0.00%\n",
            "column:     Ticket\t percent of NAN value: 0.00%\n",
            "column:       Fare\t percent of NAN value: 0.00%\n",
            "column:      Cabin\t percent of NAN value: 77.10%\n",
            "column:   Embarked\t percent of NAN value: 0.22%\n",
            "column:     Person\t percent of NAN value: 0.00%\n",
            "column:     Family\t percent of NAN value: 0.00%\n"
          ],
          "name": "stdout"
        }
      ]
    },
    {
      "cell_type": "code",
      "metadata": {
        "id": "nXy-DWi0GKCY",
        "colab_type": "code",
        "colab": {
          "base_uri": "https://localhost:8080/",
          "height": 246
        },
        "outputId": "13e0fed2-34d6-4a72-959b-1c575e63fdc6"
      },
      "source": [
        "for col in df_test.columns:\n",
        "  msg = 'column: {:>10}\\t percent of NAN value: {:.2f}%'.format(col, 100* (df_test[col].isnull().sum() / df_test[col].shape[0]) )\n",
        "  print(msg)"
      ],
      "execution_count": null,
      "outputs": [
        {
          "output_type": "stream",
          "text": [
            "column: PassengerId\t percent of NAN value: 0.00%\n",
            "column:     Pclass\t percent of NAN value: 0.00%\n",
            "column:       Name\t percent of NAN value: 0.00%\n",
            "column:        Sex\t percent of NAN value: 0.00%\n",
            "column:        Age\t percent of NAN value: 20.57%\n",
            "column:      SibSp\t percent of NAN value: 0.00%\n",
            "column:      Parch\t percent of NAN value: 0.00%\n",
            "column:     Ticket\t percent of NAN value: 0.00%\n",
            "column:       Fare\t percent of NAN value: 0.24%\n",
            "column:      Cabin\t percent of NAN value: 78.23%\n",
            "column:   Embarked\t percent of NAN value: 0.00%\n",
            "column:     Person\t percent of NAN value: 0.00%\n",
            "column:     Family\t percent of NAN value: 0.00%\n"
          ],
          "name": "stdout"
        }
      ]
    },
    {
      "cell_type": "markdown",
      "metadata": {
        "id": "6Xt8nuN54V9z",
        "colab_type": "text"
      },
      "source": [
        "[1] Survived\n",
        "\n",
        "1.1 데이터 확인\n",
        "\n",
        "*   0: 사망 , 1: 생존\n",
        "\n",
        " : 생존한 사람보다 사망한 사람이 더 많다는 것을 알 수 있습니다."
      ]
    },
    {
      "cell_type": "code",
      "metadata": {
        "id": "IM2XnKUW4g1z",
        "colab_type": "code",
        "colab": {
          "base_uri": "https://localhost:8080/",
          "height": 70
        },
        "outputId": "2f8b1a1f-fadd-46bf-a6d7-c6df66e39441"
      },
      "source": [
        "df_train['Survived'].value_counts()"
      ],
      "execution_count": null,
      "outputs": [
        {
          "output_type": "execute_result",
          "data": {
            "text/plain": [
              "0    549\n",
              "1    342\n",
              "Name: Survived, dtype: int64"
            ]
          },
          "metadata": {
            "tags": []
          },
          "execution_count": 22
        }
      ]
    },
    {
      "cell_type": "code",
      "metadata": {
        "id": "exVODxsl4iaH",
        "colab_type": "code",
        "colab": {
          "base_uri": "https://localhost:8080/",
          "height": 442
        },
        "outputId": "2bf001ed-6671-432c-9c74-be74b665d2b5"
      },
      "source": [
        "sns.factorplot('Survived', data=df_train, kind='count')"
      ],
      "execution_count": null,
      "outputs": [
        {
          "output_type": "stream",
          "text": [
            "/usr/local/lib/python3.6/dist-packages/seaborn/categorical.py:3666: UserWarning: The `factorplot` function has been renamed to `catplot`. The original name will be removed in a future release. Please update your code. Note that the default `kind` in `factorplot` (`'point'`) has changed `'strip'` in `catplot`.\n",
            "  warnings.warn(msg)\n"
          ],
          "name": "stderr"
        },
        {
          "output_type": "execute_result",
          "data": {
            "text/plain": [
              "<seaborn.axisgrid.FacetGrid at 0x7ff28757db38>"
            ]
          },
          "metadata": {
            "tags": []
          },
          "execution_count": 23
        },
        {
          "output_type": "display_data",
          "data": {
            "image/png": "[encoded data removed]",
            "text/plain": [
              "<Figure size 360x360 with 1 Axes>"
            ]
          },
          "metadata": {
            "tags": [],
            "needs_background": "light"
          }
        }
      ]
    },
    {
      "cell_type": "markdown",
      "metadata": {
        "id": "JsyZgMYS4mw_",
        "colab_type": "text"
      },
      "source": [
        "[2] Sex\n",
        "\n",
        "2.1 Sex데이터 확인\n",
        "\n",
        "*  여성보다 남자가 더 많이 탑승했다."
      ]
    },
    {
      "cell_type": "code",
      "metadata": {
        "id": "OnqtLVQO4p5P",
        "colab_type": "code",
        "colab": {
          "base_uri": "https://localhost:8080/",
          "height": 70
        },
        "outputId": "b9d27610-7ccd-4b8f-def6-32126f7e86f6"
      },
      "source": [
        "df_train['Sex'].value_counts()"
      ],
      "execution_count": null,
      "outputs": [
        {
          "output_type": "execute_result",
          "data": {
            "text/plain": [
              "male      577\n",
              "female    314\n",
              "Name: Sex, dtype: int64"
            ]
          },
          "metadata": {
            "tags": []
          },
          "execution_count": 24
        }
      ]
    },
    {
      "cell_type": "code",
      "metadata": {
        "id": "uQOpmvJq4rkH",
        "colab_type": "code",
        "colab": {
          "base_uri": "https://localhost:8080/",
          "height": 442
        },
        "outputId": "9acd2c79-4b6d-4df2-b509-4288007abbf2"
      },
      "source": [
        "sns.factorplot('Sex', data=df_train, kind='count')"
      ],
      "execution_count": null,
      "outputs": [
        {
          "output_type": "stream",
          "text": [
            "/usr/local/lib/python3.6/dist-packages/seaborn/categorical.py:3666: UserWarning: The `factorplot` function has been renamed to `catplot`. The original name will be removed in a future release. Please update your code. Note that the default `kind` in `factorplot` (`'point'`) has changed `'strip'` in `catplot`.\n",
            "  warnings.warn(msg)\n"
          ],
          "name": "stderr"
        },
        {
          "output_type": "execute_result",
          "data": {
            "text/plain": [
              "<seaborn.axisgrid.FacetGrid at 0x7ff28759a748>"
            ]
          },
          "metadata": {
            "tags": []
          },
          "execution_count": 25
        },
        {
          "output_type": "display_data",
          "data": {
            "image/png": "[encoded data removed]",
            "text/plain": [
              "<Figure size 360x360 with 1 Axes>"
            ]
          },
          "metadata": {
            "tags": [],
            "needs_background": "light"
          }
        }
      ]
    },
    {
      "cell_type": "markdown",
      "metadata": {
        "id": "7qFOITSZ45tV",
        "colab_type": "text"
      },
      "source": [
        "2.2 성별에 따른 생존확인\n",
        "\n",
        "*  남자에 비해 여자가 더 많이 생존했음을 알 수 있습니다."
      ]
    },
    {
      "cell_type": "code",
      "metadata": {
        "id": "9gx4Ogvx5Cl7",
        "colab_type": "code",
        "colab": {
          "base_uri": "https://localhost:8080/",
          "height": 442
        },
        "outputId": "778b7dea-6e65-49c6-ec71-fadc3f28ea98"
      },
      "source": [
        "sns.factorplot('Sex', data=df_train, hue='Survived', kind='count')"
      ],
      "execution_count": null,
      "outputs": [
        {
          "output_type": "stream",
          "text": [
            "/usr/local/lib/python3.6/dist-packages/seaborn/categorical.py:3666: UserWarning: The `factorplot` function has been renamed to `catplot`. The original name will be removed in a future release. Please update your code. Note that the default `kind` in `factorplot` (`'point'`) has changed `'strip'` in `catplot`.\n",
            "  warnings.warn(msg)\n"
          ],
          "name": "stderr"
        },
        {
          "output_type": "execute_result",
          "data": {
            "text/plain": [
              "<seaborn.axisgrid.FacetGrid at 0x7ff284fa6710>"
            ]
          },
          "metadata": {
            "tags": []
          },
          "execution_count": 26
        },
        {
          "output_type": "display_data",
          "data": {
            "image/png": "[encoded data removed]",
            "text/plain": [
              "<Figure size 411.875x360 with 1 Axes>"
            ]
          },
          "metadata": {
            "tags": [],
            "needs_background": "light"
          }
        }
      ]
    },
    {
      "cell_type": "markdown",
      "metadata": {
        "id": "EVWtJPj2-K6p",
        "colab_type": "text"
      },
      "source": [
        "2.3 숫자로 변환\n",
        "> male = 0, female = 1로 변환\n",
        "\n",
        "*  모델링을 하기 위해서 문자를 숫자로 변환해 준다. "
      ]
    },
    {
      "cell_type": "code",
      "metadata": {
        "id": "Mo_uNYj5-TFX",
        "colab_type": "code",
        "colab": {}
      },
      "source": [
        "df_train.Sex = df_train.Sex.replace('male', 0)\n",
        "df_train.Sex = df_train.Sex.replace('female', 1)\n",
        "df_test.Sex = df_test.Sex.replace('male', 0)\n",
        "df_test.Sex = df_test.Sex.replace('female', 1)"
      ],
      "execution_count": null,
      "outputs": []
    },
    {
      "cell_type": "markdown",
      "metadata": {
        "id": "bzksi6Xk4xI7",
        "colab_type": "text"
      },
      "source": [
        "[3] Age"
      ]
    },
    {
      "cell_type": "markdown",
      "metadata": {
        "id": "C7j51D5t-q1g",
        "colab_type": "text"
      },
      "source": [
        "3.1 데이터 확인\n",
        "> 연속적인 데이터가 많아서 히스토그램을 사용해서 생존을 판단함"
      ]
    },
    {
      "cell_type": "code",
      "metadata": {
        "id": "QHL5aoDB4zcy",
        "colab_type": "code",
        "colab": {
          "base_uri": "https://localhost:8080/",
          "height": 282
        },
        "outputId": "73abdc08-bf4c-4386-90cd-9b2b0fd48941"
      },
      "source": [
        " df_train['Age'].hist(bins=70)"
      ],
      "execution_count": null,
      "outputs": [
        {
          "output_type": "execute_result",
          "data": {
            "text/plain": [
              "<matplotlib.axes._subplots.AxesSubplot at 0x7ff285f33780>"
            ]
          },
          "metadata": {
            "tags": []
          },
          "execution_count": 28
        },
        {
          "output_type": "display_data",
          "data": {
            "image/png": "[encoded data removed]",
            "text/plain": [
              "<Figure size 432x288 with 1 Axes>"
            ]
          },
          "metadata": {
            "tags": [],
            "needs_background": "light"
          }
        }
      ]
    },
    {
      "cell_type": "markdown",
      "metadata": {
        "id": "pJ2WvtJgAmjF",
        "colab_type": "text"
      },
      "source": [
        "*  ~ 10대, 40~ 대는 생존확률이 더 높다.\n",
        "\n",
        "* 20 ~ 30대는 사망확률이 더 높다.\n",
        " \n",
        " : 그래프를 통해서 청/중년층이 많이 사망한 것을 알 수 있다."
      ]
    },
    {
      "cell_type": "code",
      "metadata": {
        "id": "GTOXct0F42Iq",
        "colab_type": "code",
        "colab": {
          "base_uri": "https://localhost:8080/",
          "height": 320
        },
        "outputId": "58233270-7533-43ed-bed1-9aee7d32f05a"
      },
      "source": [
        "fig, ax = plt.subplots(1, 1, figsize=(9, 5))\n",
        "sns.kdeplot(df_train[df_train['Survived'] == 1]['Age'], ax=ax)\n",
        "sns.kdeplot(df_train[df_train['Survived'] == 0]['Age'], ax=ax)\n",
        "plt.legend(['Survive == 1', 'Dead == 0'])\n",
        "plt.show()"
      ],
      "execution_count": null,
      "outputs": [
        {
          "output_type": "display_data",
          "data": {
            "image/png": "[encoded data removed]",
            "text/plain": [
              "<Figure size 648x360 with 1 Axes>"
            ]
          },
          "metadata": {
            "tags": [],
            "needs_background": "light"
          }
        }
      ]
    },
    {
      "cell_type": "markdown",
      "metadata": {
        "id": "fb_EtsT7u0Rn",
        "colab_type": "text"
      },
      "source": [
        "3.2 NULL값 제거\n",
        "\n",
        " : 비어 있거나 잘못 된 값을 없애준다. "
      ]
    },
    {
      "cell_type": "code",
      "metadata": {
        "id": "wcYr0P7vuz1Q",
        "colab_type": "code",
        "colab": {}
      },
      "source": [
        "df_train['Age'].fillna(df_train['Age'].mean(), inplace=True)\n",
        "df_test['Age'].fillna(df_test['Age'].mean(), inplace=True)"
      ],
      "execution_count": null,
      "outputs": []
    },
    {
      "cell_type": "markdown",
      "metadata": {
        "id": "_WqXLUwR-pjw",
        "colab_type": "text"
      },
      "source": [
        "3.3 연령대에 따라 숫자로 변환\n",
        "*  나중에 생존률을 확인하기 편리하게 나눠줍니다.\n",
        "\n"
      ]
    },
    {
      "cell_type": "code",
      "metadata": {
        "id": "1hvK1H7a-o38",
        "colab_type": "code",
        "colab": {}
      },
      "source": [
        "def age_rate(Age):\n",
        "  age = ''\n",
        "  if Age <= -1:\n",
        "    age = 0\n",
        "  elif Age <= 1:\n",
        "    age = 1\n",
        "  elif Age <= 6:\n",
        "    age = 2\n",
        "  elif Age <= 12:\n",
        "    age = 3\n",
        "  elif Age <= 22:\n",
        "    age = 4\n",
        "  elif Age <= 40:\n",
        "    age = 5\n",
        "  elif Age <= 60:\n",
        "    age = 6\n",
        "  else:\n",
        "    age = 7\n",
        "  return age\n",
        "\n",
        "df_train['Age'] = df_train['Age'].apply(age_rate)\n",
        "df_test['Age'] = df_test['Age'].apply(age_rate)"
      ],
      "execution_count": null,
      "outputs": []
    },
    {
      "cell_type": "markdown",
      "metadata": {
        "id": "LDi3OqJx6EjZ",
        "colab_type": "text"
      },
      "source": [
        "[4] Person\n",
        "\n",
        "4.1 데이터 확인\n",
        "\n",
        "*  남자, 여자, 어린이 순으로 적다.\n"
      ]
    },
    {
      "cell_type": "code",
      "metadata": {
        "id": "gNftn_G26_aE",
        "colab_type": "code",
        "colab": {
          "base_uri": "https://localhost:8080/",
          "height": 87
        },
        "outputId": "7ce1b882-6afe-4b70-8af0-d8ebf3a31dfb"
      },
      "source": [
        "df_train['Person'].value_counts()"
      ],
      "execution_count": null,
      "outputs": [
        {
          "output_type": "execute_result",
          "data": {
            "text/plain": [
              "male      540\n",
              "female    280\n",
              "child      71\n",
              "Name: Person, dtype: int64"
            ]
          },
          "metadata": {
            "tags": []
          },
          "execution_count": 32
        }
      ]
    },
    {
      "cell_type": "code",
      "metadata": {
        "id": "iU7iQchG7APN",
        "colab_type": "code",
        "colab": {
          "base_uri": "https://localhost:8080/",
          "height": 442
        },
        "outputId": "c960251a-e2a4-4ee5-ef6e-e3fd04fada8f"
      },
      "source": [
        "sns.factorplot('Person', data=df_train, kind='count')"
      ],
      "execution_count": null,
      "outputs": [
        {
          "output_type": "stream",
          "text": [
            "/usr/local/lib/python3.6/dist-packages/seaborn/categorical.py:3666: UserWarning: The `factorplot` function has been renamed to `catplot`. The original name will be removed in a future release. Please update your code. Note that the default `kind` in `factorplot` (`'point'`) has changed `'strip'` in `catplot`.\n",
            "  warnings.warn(msg)\n"
          ],
          "name": "stderr"
        },
        {
          "output_type": "execute_result",
          "data": {
            "text/plain": [
              "<seaborn.axisgrid.FacetGrid at 0x7ff276f48f60>"
            ]
          },
          "metadata": {
            "tags": []
          },
          "execution_count": 33
        },
        {
          "output_type": "display_data",
          "data": {
            "image/png": "[encoded data removed]",
            "text/plain": [
              "<Figure size 360x360 with 1 Axes>"
            ]
          },
          "metadata": {
            "tags": [],
            "needs_background": "light"
          }
        }
      ]
    },
    {
      "cell_type": "code",
      "metadata": {
        "id": "l2HbKL6Y7Bfr",
        "colab_type": "code",
        "colab": {
          "base_uri": "https://localhost:8080/",
          "height": 442
        },
        "outputId": "c030bc79-f80d-43ed-de47-4133a49c7715"
      },
      "source": [
        "sns.factorplot('Person', data=df_train, hue='Survived', kind='count')"
      ],
      "execution_count": null,
      "outputs": [
        {
          "output_type": "stream",
          "text": [
            "/usr/local/lib/python3.6/dist-packages/seaborn/categorical.py:3666: UserWarning: The `factorplot` function has been renamed to `catplot`. The original name will be removed in a future release. Please update your code. Note that the default `kind` in `factorplot` (`'point'`) has changed `'strip'` in `catplot`.\n",
            "  warnings.warn(msg)\n"
          ],
          "name": "stderr"
        },
        {
          "output_type": "execute_result",
          "data": {
            "text/plain": [
              "<seaborn.axisgrid.FacetGrid at 0x7ff276f11f98>"
            ]
          },
          "metadata": {
            "tags": []
          },
          "execution_count": 34
        },
        {
          "output_type": "display_data",
          "data": {
            "image/png": "[encoded data removed]",
            "text/plain": [
              "<Figure size 411.875x360 with 1 Axes>"
            ]
          },
          "metadata": {
            "tags": [],
            "needs_background": "light"
          }
        }
      ]
    },
    {
      "cell_type": "markdown",
      "metadata": {
        "id": "Ecrqh8Mu7ECe",
        "colab_type": "text"
      },
      "source": [
        "*  남자에 비해서 여자와 아이들이 더 많이 생존했음을 알 수 있다.\n",
        "\n",
        " : 사람 수에 비해서 남자가 살 확률이 매우 적다는 것을 알 수 있다.\n",
        "\n",
        "\n"
      ]
    },
    {
      "cell_type": "markdown",
      "metadata": {
        "id": "6MZpN6R2DkcF",
        "colab_type": "text"
      },
      "source": [
        "4.2 숫자로 변환"
      ]
    },
    {
      "cell_type": "code",
      "metadata": {
        "id": "HVUN2S9j_Xfa",
        "colab_type": "code",
        "colab": {}
      },
      "source": [
        "#train_set\n",
        "df_train.Person = df_train.Person.replace('male', 0)\n",
        "df_train.Person = df_train.Person.replace('female', 1)\n",
        "df_train.Person = df_train.Person.replace('child', 2)\n",
        "\n",
        "#test_set\n",
        "df_test.Person = df_test.Person.replace('male', 0)\n",
        "df_test.Person = df_test.Person.replace('female', 1)\n",
        "df_test.Person = df_test.Person.replace('child', 2)"
      ],
      "execution_count": null,
      "outputs": []
    },
    {
      "cell_type": "markdown",
      "metadata": {
        "id": "ttRDFJMj5PzR",
        "colab_type": "text"
      },
      "source": [
        "[5] Pclass\n",
        "\n",
        "5.1 데이터 확인\n",
        "\n",
        "*  3등급 승객에 많은 것을 알 수 있다.\n",
        "\n",
        " : 1등급, 3등급, 3등급 순으로 생존률이 높다.\n",
        "\n",
        "*  좌석등급에 따라서 생존률이 달라짐을 확인할수있다."
      ]
    },
    {
      "cell_type": "code",
      "metadata": {
        "id": "gUvwIkZ15SrO",
        "colab_type": "code",
        "colab": {
          "base_uri": "https://localhost:8080/",
          "height": 87
        },
        "outputId": "c70502e6-7cdf-4f89-8b9e-7d841d43237f"
      },
      "source": [
        "df_train['Pclass'].value_counts()"
      ],
      "execution_count": null,
      "outputs": [
        {
          "output_type": "execute_result",
          "data": {
            "text/plain": [
              "3    491\n",
              "1    216\n",
              "2    184\n",
              "Name: Pclass, dtype: int64"
            ]
          },
          "metadata": {
            "tags": []
          },
          "execution_count": 36
        }
      ]
    },
    {
      "cell_type": "code",
      "metadata": {
        "id": "Lnnh7GOS5UG8",
        "colab_type": "code",
        "colab": {
          "base_uri": "https://localhost:8080/",
          "height": 442
        },
        "outputId": "938c759e-3225-414a-f678-1e7674f76fc6"
      },
      "source": [
        "sns.factorplot('Pclass', data=df_train, kind='count')"
      ],
      "execution_count": null,
      "outputs": [
        {
          "output_type": "stream",
          "text": [
            "/usr/local/lib/python3.6/dist-packages/seaborn/categorical.py:3666: UserWarning: The `factorplot` function has been renamed to `catplot`. The original name will be removed in a future release. Please update your code. Note that the default `kind` in `factorplot` (`'point'`) has changed `'strip'` in `catplot`.\n",
            "  warnings.warn(msg)\n"
          ],
          "name": "stderr"
        },
        {
          "output_type": "execute_result",
          "data": {
            "text/plain": [
              "<seaborn.axisgrid.FacetGrid at 0x7ff276f1b470>"
            ]
          },
          "metadata": {
            "tags": []
          },
          "execution_count": 37
        },
        {
          "output_type": "display_data",
          "data": {
            "image/png": "[encoded data removed]",
            "text/plain": [
              "<Figure size 360x360 with 1 Axes>"
            ]
          },
          "metadata": {
            "tags": [],
            "needs_background": "light"
          }
        }
      ]
    },
    {
      "cell_type": "code",
      "metadata": {
        "id": "O5iEwZxT5Xgr",
        "colab_type": "code",
        "colab": {
          "base_uri": "https://localhost:8080/",
          "height": 442
        },
        "outputId": "1f0a1d1c-446f-463e-ad07-c1e4ce9aff73"
      },
      "source": [
        "sns.factorplot('Pclass', data=df_train, hue='Survived', kind='count')"
      ],
      "execution_count": null,
      "outputs": [
        {
          "output_type": "stream",
          "text": [
            "/usr/local/lib/python3.6/dist-packages/seaborn/categorical.py:3666: UserWarning: The `factorplot` function has been renamed to `catplot`. The original name will be removed in a future release. Please update your code. Note that the default `kind` in `factorplot` (`'point'`) has changed `'strip'` in `catplot`.\n",
            "  warnings.warn(msg)\n"
          ],
          "name": "stderr"
        },
        {
          "output_type": "execute_result",
          "data": {
            "text/plain": [
              "<seaborn.axisgrid.FacetGrid at 0x7ff277069be0>"
            ]
          },
          "metadata": {
            "tags": []
          },
          "execution_count": 38
        },
        {
          "output_type": "display_data",
          "data": {
            "image/png": "[encoded data removed]",
            "text/plain": [
              "<Figure size 411.875x360 with 1 Axes>"
            ]
          },
          "metadata": {
            "tags": [],
            "needs_background": "light"
          }
        }
      ]
    },
    {
      "cell_type": "markdown",
      "metadata": {
        "id": "cx1Kt8WhEhle",
        "colab_type": "text"
      },
      "source": [
        "5.2 좌석등급에 따른 사람확인\n",
        "\n",
        "*  3등급에 남자과 어린이가 많이 탑승했다.\n",
        "\n",
        "* 여자는 모든 등급에 거의 비슷하게 탑승했다."
      ]
    },
    {
      "cell_type": "code",
      "metadata": {
        "id": "NUp_lAiO7ULH",
        "colab_type": "code",
        "colab": {
          "base_uri": "https://localhost:8080/",
          "height": 442
        },
        "outputId": "d7764731-ac50-4117-fa3f-1fa27d4822c2"
      },
      "source": [
        "sns.factorplot('Pclass', data=df_train, hue='Person', kind='count')"
      ],
      "execution_count": null,
      "outputs": [
        {
          "output_type": "stream",
          "text": [
            "/usr/local/lib/python3.6/dist-packages/seaborn/categorical.py:3666: UserWarning: The `factorplot` function has been renamed to `catplot`. The original name will be removed in a future release. Please update your code. Note that the default `kind` in `factorplot` (`'point'`) has changed `'strip'` in `catplot`.\n",
            "  warnings.warn(msg)\n"
          ],
          "name": "stderr"
        },
        {
          "output_type": "execute_result",
          "data": {
            "text/plain": [
              "<seaborn.axisgrid.FacetGrid at 0x7ff2770576a0>"
            ]
          },
          "metadata": {
            "tags": []
          },
          "execution_count": 39
        },
        {
          "output_type": "display_data",
          "data": {
            "image/png": "[encoded data removed]",
            "text/plain": [
              "<Figure size 402.375x360 with 1 Axes>"
            ]
          },
          "metadata": {
            "tags": [],
            "needs_background": "light"
          }
        }
      ]
    },
    {
      "cell_type": "markdown",
      "metadata": {
        "id": "DYXOQUeo5bce",
        "colab_type": "text"
      },
      "source": [
        "[6] SibSp\n",
        "\n",
        "6.1 데이터 확인\n",
        "\n",
        "*  혼자 탑승한 사람이 가장 많고 그 다음으로 일행 1명과 탑승한 사람이 많다.\n",
        "\n",
        "* 혼자 탑승한 사람은 사람 수에 비해 사망률이 높고 일행 1명과 탑승한 사람은 생존률이 높다.\n",
        "\n",
        "*  많은 인원과 탑승할수록 사망률이 증가한다. "
      ]
    },
    {
      "cell_type": "code",
      "metadata": {
        "id": "XJfwVmGx7ubI",
        "colab_type": "code",
        "colab": {
          "base_uri": "https://localhost:8080/",
          "height": 158
        },
        "outputId": "7fc2293a-cffa-4926-d2b5-5b79aeec85ae"
      },
      "source": [
        "df_train['SibSp'].value_counts()"
      ],
      "execution_count": null,
      "outputs": [
        {
          "output_type": "execute_result",
          "data": {
            "text/plain": [
              "0    608\n",
              "1    209\n",
              "2     28\n",
              "4     18\n",
              "3     16\n",
              "8      7\n",
              "5      5\n",
              "Name: SibSp, dtype: int64"
            ]
          },
          "metadata": {
            "tags": []
          },
          "execution_count": 40
        }
      ]
    },
    {
      "cell_type": "code",
      "metadata": {
        "id": "vZ3RWZ-f7vqj",
        "colab_type": "code",
        "colab": {
          "base_uri": "https://localhost:8080/",
          "height": 442
        },
        "outputId": "ca1c686b-9dee-4855-f370-27983bf606b8"
      },
      "source": [
        "sns.factorplot('SibSp', data=df_train,hue='Survived', kind='count')"
      ],
      "execution_count": null,
      "outputs": [
        {
          "output_type": "stream",
          "text": [
            "/usr/local/lib/python3.6/dist-packages/seaborn/categorical.py:3666: UserWarning: The `factorplot` function has been renamed to `catplot`. The original name will be removed in a future release. Please update your code. Note that the default `kind` in `factorplot` (`'point'`) has changed `'strip'` in `catplot`.\n",
            "  warnings.warn(msg)\n"
          ],
          "name": "stderr"
        },
        {
          "output_type": "execute_result",
          "data": {
            "text/plain": [
              "<seaborn.axisgrid.FacetGrid at 0x7ff276fe2630>"
            ]
          },
          "metadata": {
            "tags": []
          },
          "execution_count": 41
        },
        {
          "output_type": "display_data",
          "data": {
            "image/png": "[encoded data removed]",
            "text/plain": [
              "<Figure size 411.875x360 with 1 Axes>"
            ]
          },
          "metadata": {
            "tags": [],
            "needs_background": "light"
          }
        }
      ]
    },
    {
      "cell_type": "markdown",
      "metadata": {
        "id": "OEANoYBZ55PR",
        "colab_type": "text"
      },
      "source": [
        "[7] Parch\n",
        "\n",
        "7.1 데이터 확인\n",
        "\n",
        "*  SibSp와 비슷하게 생존률과 사망률이 발생한다.\n"
      ]
    },
    {
      "cell_type": "code",
      "metadata": {
        "id": "5HzwfGCc76rj",
        "colab_type": "code",
        "colab": {
          "base_uri": "https://localhost:8080/",
          "height": 158
        },
        "outputId": "922d7dc2-f278-4204-cde1-797cabe44193"
      },
      "source": [
        "df_train['Parch'].value_counts()"
      ],
      "execution_count": null,
      "outputs": [
        {
          "output_type": "execute_result",
          "data": {
            "text/plain": [
              "0    678\n",
              "1    118\n",
              "2     80\n",
              "5      5\n",
              "3      5\n",
              "4      4\n",
              "6      1\n",
              "Name: Parch, dtype: int64"
            ]
          },
          "metadata": {
            "tags": []
          },
          "execution_count": 42
        }
      ]
    },
    {
      "cell_type": "code",
      "metadata": {
        "id": "96Um2wma78mr",
        "colab_type": "code",
        "colab": {
          "base_uri": "https://localhost:8080/",
          "height": 442
        },
        "outputId": "f1c8bd63-66e3-438f-9a01-254e0abc33e5"
      },
      "source": [
        "sns.factorplot('Parch', data=df_train, hue='Survived', kind='count')"
      ],
      "execution_count": null,
      "outputs": [
        {
          "output_type": "stream",
          "text": [
            "/usr/local/lib/python3.6/dist-packages/seaborn/categorical.py:3666: UserWarning: The `factorplot` function has been renamed to `catplot`. The original name will be removed in a future release. Please update your code. Note that the default `kind` in `factorplot` (`'point'`) has changed `'strip'` in `catplot`.\n",
            "  warnings.warn(msg)\n"
          ],
          "name": "stderr"
        },
        {
          "output_type": "execute_result",
          "data": {
            "text/plain": [
              "<seaborn.axisgrid.FacetGrid at 0x7ff276f54a20>"
            ]
          },
          "metadata": {
            "tags": []
          },
          "execution_count": 43
        },
        {
          "output_type": "display_data",
          "data": {
            "image/png": "[encoded data removed]",
            "text/plain": [
              "<Figure size 411.875x360 with 1 Axes>"
            ]
          },
          "metadata": {
            "tags": [],
            "needs_background": "light"
          }
        }
      ]
    },
    {
      "cell_type": "markdown",
      "metadata": {
        "id": "LB-9ztNC6Hjm",
        "colab_type": "text"
      },
      "source": [
        "[8] Family\n",
        "\n",
        "8.1 데이터 확인\n",
        "\n",
        "*  2~4인 가족은 생존률이 높고 나머지는 사망률이 높음을 알 수있다."
      ]
    },
    {
      "cell_type": "code",
      "metadata": {
        "id": "ORN-MvCX8O-q",
        "colab_type": "code",
        "colab": {
          "base_uri": "https://localhost:8080/",
          "height": 442
        },
        "outputId": "e86d1ca2-dc5f-40b1-b5b9-1c9328f479a3"
      },
      "source": [
        "sns.factorplot('Family', data=df_train, kind='count')"
      ],
      "execution_count": null,
      "outputs": [
        {
          "output_type": "stream",
          "text": [
            "/usr/local/lib/python3.6/dist-packages/seaborn/categorical.py:3666: UserWarning: The `factorplot` function has been renamed to `catplot`. The original name will be removed in a future release. Please update your code. Note that the default `kind` in `factorplot` (`'point'`) has changed `'strip'` in `catplot`.\n",
            "  warnings.warn(msg)\n"
          ],
          "name": "stderr"
        },
        {
          "output_type": "execute_result",
          "data": {
            "text/plain": [
              "<seaborn.axisgrid.FacetGrid at 0x7ff276dccd30>"
            ]
          },
          "metadata": {
            "tags": []
          },
          "execution_count": 44
        },
        {
          "output_type": "display_data",
          "data": {
            "image/png": "[encoded data removed]",
            "text/plain": [
              "<Figure size 360x360 with 1 Axes>"
            ]
          },
          "metadata": {
            "tags": [],
            "needs_background": "light"
          }
        }
      ]
    },
    {
      "cell_type": "code",
      "metadata": {
        "id": "C3A2Zi2E8SjX",
        "colab_type": "code",
        "colab": {
          "base_uri": "https://localhost:8080/",
          "height": 191
        },
        "outputId": "afc260ab-5af0-4cf6-a752-84c42ef3aea4"
      },
      "source": [
        "sns.countplot('Family', hue='Survived', data=df_train, ax=ax[1])\n",
        "ax[1].set_title('(2) Survived countplot depending on Family',  y=1.02)"
      ],
      "execution_count": null,
      "outputs": [
        {
          "output_type": "display_data",
          "data": {
            "image/png": "[encoded data removed]",
            "text/plain": [
              "<Figure size 2880x720 with 3 Axes>"
            ]
          },
          "metadata": {
            "tags": [],
            "needs_background": "light"
          }
        }
      ]
    },
    {
      "cell_type": "markdown",
      "metadata": {
        "id": "y6O-XjMZ6BeA",
        "colab_type": "text"
      },
      "source": [
        "[9] Cabin\n",
        "\n",
        "9.1 NULL값을 처리 함\n",
        "\n",
        "* NULL값의 비율이 높기 때문에 먼저 없애준다. "
      ]
    },
    {
      "cell_type": "code",
      "metadata": {
        "id": "bz4uewgx8Vcz",
        "colab_type": "code",
        "colab": {}
      },
      "source": [
        "df_train['Cabin'].fillna('N', inplace = True)\n",
        "df_test['Cabin'].fillna('N', inplace = True)"
      ],
      "execution_count": null,
      "outputs": []
    },
    {
      "cell_type": "markdown",
      "metadata": {
        "id": "vjWIMeuO8d4t",
        "colab_type": "text"
      },
      "source": [
        "> 데이터 셋에서 null의 갯수를 다 더한다.\n",
        ">\n",
        ">  sum의 sum은 각 칼럼들의 합을 나다낸다.\n",
        "\n",
        "\n",
        "\n"
      ]
    },
    {
      "cell_type": "code",
      "metadata": {
        "id": "5yROAFsm8azr",
        "colab_type": "code",
        "colab": {
          "base_uri": "https://localhost:8080/",
          "height": 34
        },
        "outputId": "bf379ce3-6aeb-4573-f152-041e53f0f9ed"
      },
      "source": [
        "df_train.isnull().sum().sum()"
      ],
      "execution_count": null,
      "outputs": [
        {
          "output_type": "execute_result",
          "data": {
            "text/plain": [
              "2"
            ]
          },
          "metadata": {
            "tags": []
          },
          "execution_count": 47
        }
      ]
    },
    {
      "cell_type": "code",
      "metadata": {
        "id": "qE1_GQf08csr",
        "colab_type": "code",
        "colab": {
          "base_uri": "https://localhost:8080/",
          "height": 34
        },
        "outputId": "bb0e32df-9dad-40c9-bc92-2b59026beb8b"
      },
      "source": [
        "df_test.isnull().sum().sum()"
      ],
      "execution_count": null,
      "outputs": [
        {
          "output_type": "execute_result",
          "data": {
            "text/plain": [
              "1"
            ]
          },
          "metadata": {
            "tags": []
          },
          "execution_count": 48
        }
      ]
    },
    {
      "cell_type": "markdown",
      "metadata": {
        "id": "oRZTxrWXG4Sh",
        "colab_type": "text"
      },
      "source": [
        "9.2 데이터 확인\n",
        "\n",
        "*  데이터마다 고유숫자가 존재한다.\n"
      ]
    },
    {
      "cell_type": "code",
      "metadata": {
        "id": "qXdF0HUb9phO",
        "colab_type": "code",
        "colab": {
          "base_uri": "https://localhost:8080/",
          "height": 228
        },
        "outputId": "c416a982-8ffb-45e1-ae3b-b4a3a8a33079"
      },
      "source": [
        "df_train['Cabin'].value_counts()"
      ],
      "execution_count": null,
      "outputs": [
        {
          "output_type": "execute_result",
          "data": {
            "text/plain": [
              "N              687\n",
              "G6               4\n",
              "C23 C25 C27      4\n",
              "B96 B98          4\n",
              "F2               3\n",
              "              ... \n",
              "B86              1\n",
              "A23              1\n",
              "F G63            1\n",
              "C148             1\n",
              "A26              1\n",
              "Name: Cabin, Length: 148, dtype: int64"
            ]
          },
          "metadata": {
            "tags": []
          },
          "execution_count": 49
        }
      ]
    },
    {
      "cell_type": "markdown",
      "metadata": {
        "id": "TYdTHJWz8lPy",
        "colab_type": "text"
      },
      "source": [
        "9.3 Cabin의 데이터에 첫글자만 사용\n",
        "\n",
        "   :  알파벳 뒤에 붙는 숫자까지해서 구하면 데이터가 복잡해지고 정확률이 떨어짐\n",
        "\n"
      ]
    },
    {
      "cell_type": "code",
      "metadata": {
        "id": "H_LdH3qk8igh",
        "colab_type": "code",
        "colab": {
          "base_uri": "https://localhost:8080/",
          "height": 193
        },
        "outputId": "0215a4a0-b9f3-4635-cd9a-90dc2a7ae9e1"
      },
      "source": [
        "df_train['Cabin'] = df_train['Cabin'].str[:1]\n",
        "df_train[\"Cabin\"].value_counts()"
      ],
      "execution_count": null,
      "outputs": [
        {
          "output_type": "execute_result",
          "data": {
            "text/plain": [
              "N    687\n",
              "C     59\n",
              "B     47\n",
              "D     33\n",
              "E     32\n",
              "A     15\n",
              "F     13\n",
              "G      4\n",
              "T      1\n",
              "Name: Cabin, dtype: int64"
            ]
          },
          "metadata": {
            "tags": []
          },
          "execution_count": 50
        }
      ]
    },
    {
      "cell_type": "code",
      "metadata": {
        "id": "f_2dgMAU8sBq",
        "colab_type": "code",
        "colab": {
          "base_uri": "https://localhost:8080/",
          "height": 175
        },
        "outputId": "d33bfab0-2a64-4fdc-d327-c89ea4487037"
      },
      "source": [
        "df_test['Cabin'] = df_test['Cabin'].str[:1]\n",
        "df_test[\"Cabin\"].value_counts()"
      ],
      "execution_count": null,
      "outputs": [
        {
          "output_type": "execute_result",
          "data": {
            "text/plain": [
              "N    327\n",
              "C     35\n",
              "B     18\n",
              "D     13\n",
              "E      9\n",
              "F      8\n",
              "A      7\n",
              "G      1\n",
              "Name: Cabin, dtype: int64"
            ]
          },
          "metadata": {
            "tags": []
          },
          "execution_count": 51
        }
      ]
    },
    {
      "cell_type": "markdown",
      "metadata": {
        "id": "7Q6Ia7fe_ulw",
        "colab_type": "text"
      },
      "source": [
        "9.4  생존률 확인\n",
        "\n",
        "*  C,B,D,E 객실을 사용한 승객의 생존률이 높다.\n",
        "\n",
        " :  객실을 알면 생존률이 높음을 예상할 수 있다.\n",
        "\n",
        "*  N: 객실을 알 수 없는 승객들이다."
      ]
    },
    {
      "cell_type": "code",
      "metadata": {
        "id": "53htgZ_a8vQF",
        "colab_type": "code",
        "colab": {
          "base_uri": "https://localhost:8080/",
          "height": 442
        },
        "outputId": "59affa8f-43c7-4d9e-9b2c-9d6ca21f0922"
      },
      "source": [
        "sns.factorplot('Cabin', data=df_train,hue='Survived', kind='count')"
      ],
      "execution_count": null,
      "outputs": [
        {
          "output_type": "stream",
          "text": [
            "/usr/local/lib/python3.6/dist-packages/seaborn/categorical.py:3666: UserWarning: The `factorplot` function has been renamed to `catplot`. The original name will be removed in a future release. Please update your code. Note that the default `kind` in `factorplot` (`'point'`) has changed `'strip'` in `catplot`.\n",
            "  warnings.warn(msg)\n"
          ],
          "name": "stderr"
        },
        {
          "output_type": "execute_result",
          "data": {
            "text/plain": [
              "<seaborn.axisgrid.FacetGrid at 0x7ff276b9a630>"
            ]
          },
          "metadata": {
            "tags": []
          },
          "execution_count": 52
        },
        {
          "output_type": "display_data",
          "data": {
            "image/png": "[encoded data removed]",
            "text/plain": [
              "<Figure size 411.875x360 with 1 Axes>"
            ]
          },
          "metadata": {
            "tags": [],
            "needs_background": "light"
          }
        }
      ]
    },
    {
      "cell_type": "markdown",
      "metadata": {
        "id": "ZocyYYQ5_52v",
        "colab_type": "text"
      },
      "source": [
        "9.4 알파벳 별로 숫자로 변환"
      ]
    },
    {
      "cell_type": "code",
      "metadata": {
        "id": "bBXB4Xzd_x_n",
        "colab_type": "code",
        "colab": {}
      },
      "source": [
        "#Cabin_train_set\n",
        "df_train.Cabin = df_train.Cabin.replace('N', 0)\n",
        "df_train.Cabin = df_train.Cabin.replace('A', 1)\n",
        "df_train.Cabin = df_train.Cabin.replace('B', 2)\n",
        "df_train.Cabin = df_train.Cabin.replace('C', 3)\n",
        "df_train.Cabin = df_train.Cabin.replace('D', 4)\n",
        "df_train.Cabin = df_train.Cabin.replace('E', 5)\n",
        "df_train.Cabin = df_train.Cabin.replace('F', 6)\n",
        "df_train.Cabin = df_train.Cabin.replace('G', 7)\n",
        "df_train.Cabin = df_train.Cabin.replace('T', 8)\n",
        "\n",
        "#Cabin_test_set\n",
        "df_test.Cabin = df_test.Cabin.replace('N', 0)\n",
        "df_test.Cabin = df_test.Cabin.replace('A', 1)\n",
        "df_test.Cabin = df_test.Cabin.replace('B', 2)\n",
        "df_test.Cabin = df_test.Cabin.replace('C', 3)\n",
        "df_test.Cabin = df_test.Cabin.replace('D', 4)\n",
        "df_test.Cabin = df_test.Cabin.replace('E', 5)\n",
        "df_test.Cabin = df_test.Cabin.replace('F', 6)\n",
        "df_test.Cabin = df_test.Cabin.replace('G', 7)\n",
        "df_test.Cabin = df_test.Cabin.replace('T', 8)"
      ],
      "execution_count": null,
      "outputs": []
    },
    {
      "cell_type": "markdown",
      "metadata": {
        "id": "Af24u2H-6dLF",
        "colab_type": "text"
      },
      "source": [
        "[10] Embarked\n",
        "\n",
        "10.1 데이터 확인\n",
        "\n",
        "*   S, C, Q가 생존에 따라서 비율이 크게 차이가 나지 않기 때문에 생략하는 것이 좋다."
      ]
    },
    {
      "cell_type": "code",
      "metadata": {
        "id": "DWLIQiR37ZcX",
        "colab_type": "code",
        "colab": {
          "base_uri": "https://localhost:8080/",
          "height": 316
        },
        "outputId": "e8dabb4f-53b7-434e-bc52-aecbac309f0b"
      },
      "source": [
        "dead = df_train[df_train['Survived']==0]['Embarked'].value_counts()\n",
        "survived = df_train[df_train['Survived']==1]['Embarked'].value_counts()\n",
        "df = pd.DataFrame([dead, survived])\n",
        "df.index=['dead','survived']\n",
        "df\n",
        "df.plot(kind='bar', stacked = True)"
      ],
      "execution_count": null,
      "outputs": [
        {
          "output_type": "execute_result",
          "data": {
            "text/plain": [
              "<matplotlib.axes._subplots.AxesSubplot at 0x7ff2768f5fd0>"
            ]
          },
          "metadata": {
            "tags": []
          },
          "execution_count": 54
        },
        {
          "output_type": "display_data",
          "data": {
            "image/png": "[encoded data removed]",
            "text/plain": [
              "<Figure size 432x288 with 1 Axes>"
            ]
          },
          "metadata": {
            "tags": [],
            "needs_background": "light"
          }
        }
      ]
    },
    {
      "cell_type": "markdown",
      "metadata": {
        "id": "A6PQSVrlIOrV",
        "colab_type": "text"
      },
      "source": [
        "*  train과 test에 있는 'Embarked'값을 제거해준다."
      ]
    },
    {
      "cell_type": "code",
      "metadata": {
        "id": "LQRC91MM7pcY",
        "colab_type": "code",
        "colab": {}
      },
      "source": [
        "df_train.drop('Embarked', axis =1, inplace=True)"
      ],
      "execution_count": null,
      "outputs": []
    },
    {
      "cell_type": "code",
      "metadata": {
        "id": "wBP42W6f7p8j",
        "colab_type": "code",
        "colab": {}
      },
      "source": [
        "df_test.drop('Embarked', axis =1, inplace=True)"
      ],
      "execution_count": null,
      "outputs": []
    },
    {
      "cell_type": "code",
      "metadata": {
        "id": "gTekFWb_7rWR",
        "colab_type": "code",
        "colab": {
          "base_uri": "https://localhost:8080/",
          "height": 369
        },
        "outputId": "817dfc3f-8850-4c94-aac9-3d1e2f691426"
      },
      "source": [
        "#제거가 되었는지 확인절차\n",
        "df_train.info()"
      ],
      "execution_count": null,
      "outputs": [
        {
          "output_type": "stream",
          "text": [
            "<class 'pandas.core.frame.DataFrame'>\n",
            "RangeIndex: 891 entries, 0 to 890\n",
            "Data columns (total 13 columns):\n",
            " #   Column       Non-Null Count  Dtype  \n",
            "---  ------       --------------  -----  \n",
            " 0   PassengerId  891 non-null    int64  \n",
            " 1   Survived     891 non-null    int64  \n",
            " 2   Pclass       891 non-null    int64  \n",
            " 3   Name         891 non-null    object \n",
            " 4   Sex          891 non-null    int64  \n",
            " 5   Age          891 non-null    int64  \n",
            " 6   SibSp        891 non-null    int64  \n",
            " 7   Parch        891 non-null    int64  \n",
            " 8   Ticket       891 non-null    object \n",
            " 9   Fare         891 non-null    float64\n",
            " 10  Cabin        891 non-null    int64  \n",
            " 11  Person       891 non-null    int64  \n",
            " 12  Family       891 non-null    int64  \n",
            "dtypes: float64(1), int64(10), object(2)\n",
            "memory usage: 90.6+ KB\n"
          ],
          "name": "stdout"
        }
      ]
    },
    {
      "cell_type": "markdown",
      "metadata": {
        "id": "bwKzh9_h6jIr",
        "colab_type": "text"
      },
      "source": [
        "[11] 생존과 관계성이 떨어지는 데이터 제거\n",
        "* Passengerld, Name, Ticket, Fare"
      ]
    },
    {
      "cell_type": "code",
      "metadata": {
        "id": "fXzhp4hR914M",
        "colab_type": "code",
        "colab": {}
      },
      "source": [
        "#PassengerId\n",
        "df_train.drop('PassengerId', axis=1, inplace=True)\n",
        "df_test.drop('PassengerId', axis=1, inplace=True)\n",
        "\n",
        "#Name\n",
        "df_train.drop('Name', axis=1, inplace=True)\n",
        "df_test.drop('Name', axis=1, inplace=True)\n",
        "\n",
        "#Ticket\n",
        "df_train.drop('Ticket', axis=1, inplace=True)\n",
        "df_test.drop('Ticket', axis=1, inplace=True)\n",
        "\n",
        "#Fare\n",
        "df_train.drop('Fare', axis=1, inplace=True)\n",
        "df_test.drop('Fare', axis=1, inplace=True)"
      ],
      "execution_count": null,
      "outputs": []
    },
    {
      "cell_type": "code",
      "metadata": {
        "id": "5zgk1VgI-FgJ",
        "colab_type": "code",
        "colab": {
          "base_uri": "https://localhost:8080/",
          "height": 195
        },
        "outputId": "d1327cac-bcd5-484c-dca9-d023f53365b4"
      },
      "source": [
        "df_train.head()"
      ],
      "execution_count": null,
      "outputs": [
        {
          "output_type": "execute_result",
          "data": {
            "text/html": [
              "<div>\n",
              "<style scoped>\n",
              "    .dataframe tbody tr th:only-of-type {\n",
              "        vertical-align: middle;\n",
              "    }\n",
              "\n",
              "    .dataframe tbody tr th {\n",
              "        vertical-align: top;\n",
              "    }\n",
              "\n",
              "    .dataframe thead th {\n",
              "        text-align: right;\n",
              "    }\n",
              "</style>\n",
              "<table border=\"1\" class=\"dataframe\">\n",
              "  <thead>\n",
              "    <tr style=\"text-align: right;\">\n",
              "      <th></th>\n",
              "      <th>Survived</th>\n",
              "      <th>Pclass</th>\n",
              "      <th>Sex</th>\n",
              "      <th>Age</th>\n",
              "      <th>SibSp</th>\n",
              "      <th>Parch</th>\n",
              "      <th>Cabin</th>\n",
              "      <th>Person</th>\n",
              "      <th>Family</th>\n",
              "    </tr>\n",
              "  </thead>\n",
              "  <tbody>\n",
              "    <tr>\n",
              "      <th>0</th>\n",
              "      <td>0</td>\n",
              "      <td>3</td>\n",
              "      <td>0</td>\n",
              "      <td>4</td>\n",
              "      <td>1</td>\n",
              "      <td>0</td>\n",
              "      <td>0</td>\n",
              "      <td>0</td>\n",
              "      <td>2</td>\n",
              "    </tr>\n",
              "    <tr>\n",
              "      <th>1</th>\n",
              "      <td>1</td>\n",
              "      <td>1</td>\n",
              "      <td>1</td>\n",
              "      <td>5</td>\n",
              "      <td>1</td>\n",
              "      <td>0</td>\n",
              "      <td>3</td>\n",
              "      <td>1</td>\n",
              "      <td>2</td>\n",
              "    </tr>\n",
              "    <tr>\n",
              "      <th>2</th>\n",
              "      <td>1</td>\n",
              "      <td>3</td>\n",
              "      <td>1</td>\n",
              "      <td>5</td>\n",
              "      <td>0</td>\n",
              "      <td>0</td>\n",
              "      <td>0</td>\n",
              "      <td>1</td>\n",
              "      <td>1</td>\n",
              "    </tr>\n",
              "    <tr>\n",
              "      <th>3</th>\n",
              "      <td>1</td>\n",
              "      <td>1</td>\n",
              "      <td>1</td>\n",
              "      <td>5</td>\n",
              "      <td>1</td>\n",
              "      <td>0</td>\n",
              "      <td>3</td>\n",
              "      <td>1</td>\n",
              "      <td>2</td>\n",
              "    </tr>\n",
              "    <tr>\n",
              "      <th>4</th>\n",
              "      <td>0</td>\n",
              "      <td>3</td>\n",
              "      <td>0</td>\n",
              "      <td>5</td>\n",
              "      <td>0</td>\n",
              "      <td>0</td>\n",
              "      <td>0</td>\n",
              "      <td>0</td>\n",
              "      <td>1</td>\n",
              "    </tr>\n",
              "  </tbody>\n",
              "</table>\n",
              "</div>"
            ],
            "text/plain": [
              "   Survived  Pclass  Sex  Age  SibSp  Parch  Cabin  Person  Family\n",
              "0         0       3    0    4      1      0      0       0       2\n",
              "1         1       1    1    5      1      0      3       1       2\n",
              "2         1       3    1    5      0      0      0       1       1\n",
              "3         1       1    1    5      1      0      3       1       2\n",
              "4         0       3    0    5      0      0      0       0       1"
            ]
          },
          "metadata": {
            "tags": []
          },
          "execution_count": 59
        }
      ]
    },
    {
      "cell_type": "code",
      "metadata": {
        "id": "M_EXPVqalZJd",
        "colab_type": "code",
        "colab": {
          "base_uri": "https://localhost:8080/",
          "height": 195
        },
        "outputId": "bc3ccb46-d4a0-4606-8839-4f5653dd051c"
      },
      "source": [
        "df_test.head()"
      ],
      "execution_count": null,
      "outputs": [
        {
          "output_type": "execute_result",
          "data": {
            "text/html": [
              "<div>\n",
              "<style scoped>\n",
              "    .dataframe tbody tr th:only-of-type {\n",
              "        vertical-align: middle;\n",
              "    }\n",
              "\n",
              "    .dataframe tbody tr th {\n",
              "        vertical-align: top;\n",
              "    }\n",
              "\n",
              "    .dataframe thead th {\n",
              "        text-align: right;\n",
              "    }\n",
              "</style>\n",
              "<table border=\"1\" class=\"dataframe\">\n",
              "  <thead>\n",
              "    <tr style=\"text-align: right;\">\n",
              "      <th></th>\n",
              "      <th>Pclass</th>\n",
              "      <th>Sex</th>\n",
              "      <th>Age</th>\n",
              "      <th>SibSp</th>\n",
              "      <th>Parch</th>\n",
              "      <th>Cabin</th>\n",
              "      <th>Person</th>\n",
              "      <th>Family</th>\n",
              "    </tr>\n",
              "  </thead>\n",
              "  <tbody>\n",
              "    <tr>\n",
              "      <th>0</th>\n",
              "      <td>3</td>\n",
              "      <td>0</td>\n",
              "      <td>5</td>\n",
              "      <td>0</td>\n",
              "      <td>0</td>\n",
              "      <td>0</td>\n",
              "      <td>0</td>\n",
              "      <td>1</td>\n",
              "    </tr>\n",
              "    <tr>\n",
              "      <th>1</th>\n",
              "      <td>3</td>\n",
              "      <td>1</td>\n",
              "      <td>6</td>\n",
              "      <td>1</td>\n",
              "      <td>0</td>\n",
              "      <td>0</td>\n",
              "      <td>1</td>\n",
              "      <td>2</td>\n",
              "    </tr>\n",
              "    <tr>\n",
              "      <th>2</th>\n",
              "      <td>2</td>\n",
              "      <td>0</td>\n",
              "      <td>7</td>\n",
              "      <td>0</td>\n",
              "      <td>0</td>\n",
              "      <td>0</td>\n",
              "      <td>1</td>\n",
              "      <td>1</td>\n",
              "    </tr>\n",
              "    <tr>\n",
              "      <th>3</th>\n",
              "      <td>3</td>\n",
              "      <td>0</td>\n",
              "      <td>5</td>\n",
              "      <td>0</td>\n",
              "      <td>0</td>\n",
              "      <td>0</td>\n",
              "      <td>1</td>\n",
              "      <td>1</td>\n",
              "    </tr>\n",
              "    <tr>\n",
              "      <th>4</th>\n",
              "      <td>3</td>\n",
              "      <td>1</td>\n",
              "      <td>4</td>\n",
              "      <td>1</td>\n",
              "      <td>1</td>\n",
              "      <td>0</td>\n",
              "      <td>0</td>\n",
              "      <td>3</td>\n",
              "    </tr>\n",
              "  </tbody>\n",
              "</table>\n",
              "</div>"
            ],
            "text/plain": [
              "   Pclass  Sex  Age  SibSp  Parch  Cabin  Person  Family\n",
              "0       3    0    5      0      0      0       0       1\n",
              "1       3    1    6      1      0      0       1       2\n",
              "2       2    0    7      0      0      0       1       1\n",
              "3       3    0    5      0      0      0       1       1\n",
              "4       3    1    4      1      1      0       0       3"
            ]
          },
          "metadata": {
            "tags": []
          },
          "execution_count": 60
        }
      ]
    },
    {
      "cell_type": "markdown",
      "metadata": {
        "id": "_BlCScB7AEDw",
        "colab_type": "text"
      },
      "source": [
        "##3. 모델 학습\n",
        "\n",
        "* trainingset에서 훈련하고 평가하기"
      ]
    },
    {
      "cell_type": "code",
      "metadata": {
        "id": "3isQmYJLKQ3J",
        "colab_type": "code",
        "colab": {}
      },
      "source": [
        "from sklearn.linear_model import LogisticRegression\n",
        "from sklearn.ensemble import RandomForestClassifier\n",
        "from sklearn.tree import DecisionTreeClassifier\n",
        "from sklearn.svm import SVC\n",
        "from sklearn.metrics import accuracy_score"
      ],
      "execution_count": null,
      "outputs": []
    },
    {
      "cell_type": "markdown",
      "metadata": {
        "id": "fTuACzDbkcea",
        "colab_type": "text"
      },
      "source": [
        "* Survived를 뺀 나머지 데이터를 한 객체에 넣어서 생존률의 정확도를 예측한다."
      ]
    },
    {
      "cell_type": "code",
      "metadata": {
        "id": "mZhVbUkUGW85",
        "colab_type": "code",
        "colab": {}
      },
      "source": [
        "features = ['Pclass', 'Sex', 'Age', 'SibSp', 'Parch', 'Cabin', 'Person', 'Family']"
      ],
      "execution_count": null,
      "outputs": []
    },
    {
      "cell_type": "code",
      "metadata": {
        "id": "M_DdPKI0KIHg",
        "colab_type": "code",
        "colab": {}
      },
      "source": [
        "X = df_train[features]\n",
        "y = df_train['Survived']"
      ],
      "execution_count": null,
      "outputs": []
    },
    {
      "cell_type": "markdown",
      "metadata": {
        "id": "JAbcq1fRkvup",
        "colab_type": "text"
      },
      "source": [
        "* 전체 데이터에서 X_tset ,y_test로 20%를 랜덤으로 만든다."
      ]
    },
    {
      "cell_type": "code",
      "metadata": {
        "id": "2QRhbcYSKLjp",
        "colab_type": "code",
        "colab": {}
      },
      "source": [
        "from sklearn.model_selection import train_test_split\n",
        "X_train, X_test, y_train, y_test = train_test_split(X, y, test_size=0.2, random_state=42)"
      ],
      "execution_count": null,
      "outputs": []
    },
    {
      "cell_type": "markdown",
      "metadata": {
        "id": "vOJM7HIVlHCC",
        "colab_type": "text"
      },
      "source": [
        "* # DecisionTreeClassifier 학습/예측/평가"
      ]
    },
    {
      "cell_type": "code",
      "metadata": {
        "id": "1sf6N6D8KOb-",
        "colab_type": "code",
        "colab": {
          "base_uri": "https://localhost:8080/",
          "height": 34
        },
        "outputId": "f8e7aa7a-5ffe-4611-a164-b538af30b3b4"
      },
      "source": [
        "dt_clf = DecisionTreeClassifier(random_state=42)\n",
        "\n",
        "dt_clf.fit(X_train, y_train)\n",
        "dt_pred = dt_clf.predict(X_test)\n",
        "print('DecisionTreeClassifier 정확도: {0:.4f}'.format(accuracy_score(y_test, dt_pred)))"
      ],
      "execution_count": null,
      "outputs": [
        {
          "output_type": "stream",
          "text": [
            "DecisionTreeClassifier 정확도: 0.8268\n"
          ],
          "name": "stdout"
        }
      ]
    },
    {
      "cell_type": "markdown",
      "metadata": {
        "id": "8UZKxThvlMY6",
        "colab_type": "text"
      },
      "source": [
        "* # RandomForestClassfier 학습/예측/평가"
      ]
    },
    {
      "cell_type": "code",
      "metadata": {
        "id": "OmA6bwcRKUv0",
        "colab_type": "code",
        "colab": {
          "base_uri": "https://localhost:8080/",
          "height": 34
        },
        "outputId": "168a692b-c152-45fd-edf7-7feb77942d3e"
      },
      "source": [
        "rf_clf = RandomForestClassifier(random_state=42)\n",
        "\n",
        "rf_clf.fit(X_train, y_train)\n",
        "rf_pred = rf_clf.predict(X_test)\n",
        "print('RandomForestClassifier 정확도:{0:.4f}'.format(accuracy_score(y_test, rf_pred)))"
      ],
      "execution_count": null,
      "outputs": [
        {
          "output_type": "stream",
          "text": [
            "RandomForestClassifier 정확도:0.8101\n"
          ],
          "name": "stdout"
        }
      ]
    },
    {
      "cell_type": "markdown",
      "metadata": {
        "id": "JRt1P8Y4lZKE",
        "colab_type": "text"
      },
      "source": [
        "* # LogisticRegression 학습/예측/평가"
      ]
    },
    {
      "cell_type": "code",
      "metadata": {
        "id": "pkCii7rlKXef",
        "colab_type": "code",
        "colab": {
          "base_uri": "https://localhost:8080/",
          "height": 34
        },
        "outputId": "be831271-c780-430f-83b7-a4be5580a0f7"
      },
      "source": [
        "lr_clf = LogisticRegression()\n",
        "lr_clf.fit(X_train, y_train)\n",
        "lr_pred = lr_clf.predict(X_test)\n",
        "print('LogisticRegression 정확도: {0:.4f}'.format(accuracy_score(y_test, lr_pred)))"
      ],
      "execution_count": null,
      "outputs": [
        {
          "output_type": "stream",
          "text": [
            "LogisticRegression 정확도: 0.8268\n"
          ],
          "name": "stdout"
        }
      ]
    },
    {
      "cell_type": "markdown",
      "metadata": {
        "id": "5XTitEMCle0k",
        "colab_type": "text"
      },
      "source": [
        "* # SVC 학습/예측/평가"
      ]
    },
    {
      "cell_type": "code",
      "metadata": {
        "id": "sM1yornAKao_",
        "colab_type": "code",
        "colab": {
          "base_uri": "https://localhost:8080/",
          "height": 34
        },
        "outputId": "0561b3a3-f213-439b-da5b-6d285c4d71d1"
      },
      "source": [
        "svc_clf = SVC()\n",
        "svc_clf.fit(X_train, y_train)\n",
        "svc_pred = svc_clf.predict(X_test)\n",
        "print('SVC 정확도: {0:.4f}'.format(accuracy_score(y_test, svc_pred)))"
      ],
      "execution_count": null,
      "outputs": [
        {
          "output_type": "stream",
          "text": [
            "SVC 정확도: 0.8156\n"
          ],
          "name": "stdout"
        }
      ]
    },
    {
      "cell_type": "markdown",
      "metadata": {
        "id": "AUdSgNtblohP",
        "colab_type": "text"
      },
      "source": [
        "> 위에 여러가지 학습 방법중에서 LogisticRegression, DecisionTreeClassifier이 정확도: 0.8268로 제일 높게 나왔다.\n",
        "\n"
      ]
    },
    {
      "cell_type": "markdown",
      "metadata": {
        "id": "fJkyfwdbBN5d",
        "colab_type": "text"
      },
      "source": [
        "#4. 교차검증"
      ]
    },
    {
      "cell_type": "markdown",
      "metadata": {
        "id": "9rGDrqthmLE3",
        "colab_type": "text"
      },
      "source": [
        "* KFold를 이용해서 교차검증"
      ]
    },
    {
      "cell_type": "code",
      "metadata": {
        "id": "ObxcwrbEGgc1",
        "colab_type": "code",
        "colab": {
          "base_uri": "https://localhost:8080/",
          "height": 122
        },
        "outputId": "7168b4e2-3eb5-48f5-8f4e-99f8bd0b3954"
      },
      "source": [
        "from sklearn.model_selection import KFold\n",
        "\n",
        "def exec_kfold(clf, folds=5):\n",
        "    # 폴드 세트를 5개인 KFold객체를 생성, 폴드 수만큼 예측결과 저장을 위한  리스트 객체 생성.\n",
        "    kfold = KFold(n_splits=folds)\n",
        "    scores = []\n",
        "    \n",
        "  \n",
        "    for iter_count ,(train_index, test_index) in enumerate(kfold.split(X)):\n",
        "        # X_titanic_df 데이터에서 교차 검증별로 학습과 검증 데이터를 가리키는 index 생성\n",
        "        X_train, X_test = X.values[train_index], X.values[test_index]\n",
        "        y_train, y_test = y.values[train_index], y.values[test_index]\n",
        "        \n",
        "        # Classifier 학습, 예측, 정확도 계산 \n",
        "        clf.fit(X_train, y_train) \n",
        "        predictions = clf.predict(X_test)\n",
        "        accuracy = accuracy_score(y_test, predictions)\n",
        "        scores.append(accuracy)\n",
        "        print(\"교차 검증 {0} 정확도: {1:.4f}\".format(iter_count, accuracy))     \n",
        "    \n",
        "    # 5개 fold에서의 평균 정확도 계산. \n",
        "    mean_score = np.mean(scores)\n",
        "    print(\"평균 정확도: {0:.4f}\".format(mean_score)) \n",
        "# exec_kfold 호출\n",
        "exec_kfold(dt_clf , folds=5) "
      ],
      "execution_count": null,
      "outputs": [
        {
          "output_type": "stream",
          "text": [
            "교차 검증 0 정확도: 0.8045\n",
            "교차 검증 1 정확도: 0.7865\n",
            "교차 검증 2 정확도: 0.8090\n",
            "교차 검증 3 정확도: 0.7865\n",
            "교차 검증 4 정확도: 0.8483\n",
            "평균 정확도: 0.8070\n"
          ],
          "name": "stdout"
        }
      ]
    },
    {
      "cell_type": "markdown",
      "metadata": {
        "id": "N3CK8heMKhjb",
        "colab_type": "text"
      },
      "source": [
        "# 각 항목별 testing"
      ]
    },
    {
      "cell_type": "markdown",
      "metadata": {
        "id": "vS3NDVAWmZUC",
        "colab_type": "text"
      },
      "source": [
        "* df_test dataset을 가지고 위에 항목별에 따라서 생존률 예측"
      ]
    },
    {
      "cell_type": "code",
      "metadata": {
        "id": "MqRZWqj6xRF_",
        "colab_type": "code",
        "colab": {}
      },
      "source": [
        "import collections, numpy\n",
        "from sklearn.tree import DecisionTreeClassifier\n",
        "from sklearn.model_selection import cross_val_score"
      ],
      "execution_count": null,
      "outputs": []
    },
    {
      "cell_type": "markdown",
      "metadata": {
        "id": "gTdhb-j1KqJY",
        "colab_type": "text"
      },
      "source": [
        "[1] Pclass\n",
        "\n",
        "* 정확도: 0.6791\n",
        "* 3등급 - 1등급 - 2등급 순으로 사람이 많이 탑승했음을 알 수 있다.\n",
        "* 사망: 311, 생존: 107 (418명 중에서)"
      ]
    },
    {
      "cell_type": "code",
      "metadata": {
        "id": "IqAiFSEbxZfI",
        "colab_type": "code",
        "colab": {
          "base_uri": "https://localhost:8080/",
          "height": 140
        },
        "outputId": "77edf54d-c80e-4988-b6e6-62563052dc46"
      },
      "source": [
        "pclass = ['Pclass']\n",
        "\n",
        "x_train = df_train[pclass]\n",
        "y_train = df_train['Survived']\n",
        "x_test = df_test[pclass]\n",
        "\n",
        "model = DecisionTreeClassifier(max_depth =10, max_features = 0.9)\n",
        "model.fit(x_train, y_train)\n",
        "\n",
        "socre = cross_val_score(model, x_train, y_train, scoring = 'accuracy', cv = 10).mean()\n",
        "\n",
        "predicition = model.predict(x_test)\n",
        "\n",
        "print('Pclass accuracy:',socre)\n",
        "print(predicition.shape)\n",
        "print(collections.Counter(predicition))\n",
        "df_test['Pclass'].value_counts()"
      ],
      "execution_count": null,
      "outputs": [
        {
          "output_type": "stream",
          "text": [
            "Pclass accuracy: 0.6791136079900124\n",
            "(418,)\n",
            "Counter({0: 311, 1: 107})\n"
          ],
          "name": "stdout"
        },
        {
          "output_type": "execute_result",
          "data": {
            "text/plain": [
              "3    218\n",
              "1    107\n",
              "2     93\n",
              "Name: Pclass, dtype: int64"
            ]
          },
          "metadata": {
            "tags": []
          },
          "execution_count": 71
        }
      ]
    },
    {
      "cell_type": "markdown",
      "metadata": {
        "id": "T5HhZkzylSTc",
        "colab_type": "text"
      },
      "source": [
        "[2] Sex\n",
        "\n",
        "* 정확도: 0.7867\n",
        "* 남자가 여자보다 많음\n",
        "* 사망: 266, 생존: 152 (418명중에서)"
      ]
    },
    {
      "cell_type": "code",
      "metadata": {
        "id": "RKnH2DrYxzO_",
        "colab_type": "code",
        "colab": {
          "base_uri": "https://localhost:8080/",
          "height": 122
        },
        "outputId": "22b6613b-53df-4e16-e79e-9e64707f830c"
      },
      "source": [
        "sex = ['Sex']\n",
        "\n",
        "x_train = df_train[sex]\n",
        "y_train = df_train['Survived']\n",
        "x_test = df_test[sex]\n",
        "\n",
        "model = DecisionTreeClassifier(max_depth =10, max_features = 0.9)\n",
        "model.fit(x_train, y_train)\n",
        "\n",
        "socre = cross_val_score(model, x_train, y_train, scoring = 'accuracy', cv = 10).mean()\n",
        "\n",
        "predicition = model.predict(x_test)\n",
        "\n",
        "print('Sex accuracy:',socre)\n",
        "print(predicition.shape)\n",
        "print(collections.Counter(predicition))\n",
        "df_test['Sex'].value_counts()"
      ],
      "execution_count": null,
      "outputs": [
        {
          "output_type": "stream",
          "text": [
            "Sex accuracy: 0.786729088639201\n",
            "(418,)\n",
            "Counter({0: 266, 1: 152})\n"
          ],
          "name": "stdout"
        },
        {
          "output_type": "execute_result",
          "data": {
            "text/plain": [
              "0    266\n",
              "1    152\n",
              "Name: Sex, dtype: int64"
            ]
          },
          "metadata": {
            "tags": []
          },
          "execution_count": 72
        }
      ]
    },
    {
      "cell_type": "markdown",
      "metadata": {
        "id": "7bOVYMaBmc9w",
        "colab_type": "text"
      },
      "source": [
        "[3] Age\n",
        "\n",
        "* 정확도: 0.7867\n",
        "* 40대초과 60대이하의 탑승객이 제일 많다.\n",
        "* 사망: 403, 생존: 15 (418명중에서)"
      ]
    },
    {
      "cell_type": "code",
      "metadata": {
        "id": "2mq5PRyHyAUz",
        "colab_type": "code",
        "colab": {
          "base_uri": "https://localhost:8080/",
          "height": 210
        },
        "outputId": "28a3bb9a-d3f2-4710-84e2-3822d1672a25"
      },
      "source": [
        "age = ['Age']\n",
        "\n",
        "x_train = df_train[age]\n",
        "y_train = df_train['Survived']\n",
        "x_test = df_test[age]\n",
        "\n",
        "model = DecisionTreeClassifier(max_depth =10, max_features = 0.9)\n",
        "model.fit(x_train, y_train)\n",
        "\n",
        "socre = cross_val_score(model, x_train, y_train, scoring = 'accuracy', cv = 10).mean()\n",
        "\n",
        "predicition = model.predict(x_test)\n",
        "\n",
        "print('Age accuracy:',socre)\n",
        "print(predicition.shape)\n",
        "print(collections.Counter(predicition))\n",
        "df_test['Age'].value_counts()"
      ],
      "execution_count": null,
      "outputs": [
        {
          "output_type": "stream",
          "text": [
            "Age accuracy: 0.6375031210986266\n",
            "(418,)\n",
            "Counter({0: 403, 1: 15})\n"
          ],
          "name": "stdout"
        },
        {
          "output_type": "execute_result",
          "data": {
            "text/plain": [
              "5    239\n",
              "4     77\n",
              "6     66\n",
              "7     11\n",
              "3     10\n",
              "1      8\n",
              "2      7\n",
              "Name: Age, dtype: int64"
            ]
          },
          "metadata": {
            "tags": []
          },
          "execution_count": 73
        }
      ]
    },
    {
      "cell_type": "markdown",
      "metadata": {
        "id": "mlgGvuOtn9fc",
        "colab_type": "text"
      },
      "source": [
        "> 위에 학습에 따르면 4,5,6번에 해당하는 연령대가 사망률이 높다.\n",
        ">\n",
        "> df_test에 4,5,6번에 비율이 높다보니 사망자의 수도 높다."
      ]
    },
    {
      "cell_type": "markdown",
      "metadata": {
        "id": "GxctFMu9tX6b",
        "colab_type": "text"
      },
      "source": [
        "[4] SibSp\n",
        "\n",
        "* 정확도: 0.6297\n",
        "* 홀로 탑승한 사람과 단둘이 탑승한 사람이 많다.\n",
        "* 사망: 308, 생존: 110 (418명중에서)"
      ]
    },
    {
      "cell_type": "code",
      "metadata": {
        "id": "UpTNOIIMszgL",
        "colab_type": "code",
        "colab": {
          "base_uri": "https://localhost:8080/",
          "height": 210
        },
        "outputId": "22a8eb8d-88ae-4d35-97b1-a356f0dfb1eb"
      },
      "source": [
        "sibsp = ['SibSp']\n",
        "\n",
        "x_train = df_train[sibsp]\n",
        "y_train = df_train['Survived']\n",
        "x_test = df_test[sibsp]\n",
        "\n",
        "model = DecisionTreeClassifier(max_depth =10, max_features = 0.9)\n",
        "model.fit(x_train, y_train)\n",
        "\n",
        "socre = cross_val_score(model, x_train, y_train, scoring = 'accuracy', cv = 10).mean()\n",
        "\n",
        "predicition = model.predict(x_test)\n",
        "\n",
        "print('SibSp accuracy: ',socre)\n",
        "print(predicition.shape)\n",
        "print(collections.Counter(predicition))\n",
        "df_test['SibSp'].value_counts()"
      ],
      "execution_count": null,
      "outputs": [
        {
          "output_type": "stream",
          "text": [
            "SibSp accuracy:  0.629712858926342\n",
            "(418,)\n",
            "Counter({0: 308, 1: 110})\n"
          ],
          "name": "stdout"
        },
        {
          "output_type": "execute_result",
          "data": {
            "text/plain": [
              "0    283\n",
              "1    110\n",
              "2     14\n",
              "4      4\n",
              "3      4\n",
              "8      2\n",
              "5      1\n",
              "Name: SibSp, dtype: int64"
            ]
          },
          "metadata": {
            "tags": []
          },
          "execution_count": 74
        }
      ]
    },
    {
      "cell_type": "markdown",
      "metadata": {
        "id": "O2yK6gNyybJX",
        "colab_type": "text"
      },
      "source": [
        "[5] Parch\n",
        "* 정확도: 0.6185\n",
        "* 혼자 탑승한 사람이 압도적으로 많음.\n",
        "* 사망: 363, 생존: 55 (418명중에서)"
      ]
    },
    {
      "cell_type": "code",
      "metadata": {
        "id": "9HVprUe6wO13",
        "colab_type": "code",
        "colab": {
          "base_uri": "https://localhost:8080/",
          "height": 228
        },
        "outputId": "67e840ec-718c-468d-b521-8d606889bd47"
      },
      "source": [
        "parch = ['Parch']\n",
        "\n",
        "x_train = df_train[parch]\n",
        "y_train = df_train['Survived']\n",
        "x_test = df_test[parch]\n",
        "\n",
        "model = DecisionTreeClassifier(max_depth =10, max_features = 0.9)\n",
        "model.fit(x_train, y_train)\n",
        "\n",
        "socre = cross_val_score(model, x_train, y_train, scoring = 'accuracy', cv = 10).mean()\n",
        "\n",
        "predicition = model.predict(x_test)\n",
        "\n",
        "print('Parch accuracy:',socre)\n",
        "print(predicition.shape)\n",
        "print(collections.Counter(predicition))\n",
        "df_test['Parch'].value_counts()"
      ],
      "execution_count": null,
      "outputs": [
        {
          "output_type": "stream",
          "text": [
            "Parch accuracy: 0.6184644194756554\n",
            "(418,)\n",
            "Counter({0: 363, 1: 55})\n"
          ],
          "name": "stdout"
        },
        {
          "output_type": "execute_result",
          "data": {
            "text/plain": [
              "0    324\n",
              "1     52\n",
              "2     33\n",
              "3      3\n",
              "9      2\n",
              "4      2\n",
              "6      1\n",
              "5      1\n",
              "Name: Parch, dtype: int64"
            ]
          },
          "metadata": {
            "tags": []
          },
          "execution_count": 75
        }
      ]
    },
    {
      "cell_type": "markdown",
      "metadata": {
        "id": "LjVRofday8Ll",
        "colab_type": "text"
      },
      "source": [
        "[6] Cabin\n",
        "* 정확도: 0.6914\n",
        "* 사망: 335, 생존: 83 (418명중에서)"
      ]
    },
    {
      "cell_type": "code",
      "metadata": {
        "id": "rOV_FYVKyny5",
        "colab_type": "code",
        "colab": {
          "base_uri": "https://localhost:8080/",
          "height": 228
        },
        "outputId": "196a15ed-476d-42b7-e499-a8fa64a8188b"
      },
      "source": [
        "cabin = ['Cabin']\n",
        "\n",
        "x_train = df_train[cabin]\n",
        "y_train = df_train['Survived']\n",
        "x_test = df_test[cabin]\n",
        "\n",
        "model = DecisionTreeClassifier(max_depth =10, max_features = 0.9)\n",
        "model.fit(x_train, y_train)\n",
        "\n",
        "socre = cross_val_score(model, x_train, y_train, scoring = 'accuracy', cv = 10).mean()\n",
        "\n",
        "predicition = model.predict(x_test)\n",
        "\n",
        "print('Cabin accuracy:',socre)\n",
        "print(predicition.shape)\n",
        "print(collections.Counter(predicition))\n",
        "df_test['Cabin'].value_counts()"
      ],
      "execution_count": null,
      "outputs": [
        {
          "output_type": "stream",
          "text": [
            "Cabin accuracy: 0.6914107365792759\n",
            "(418,)\n",
            "Counter({0: 335, 1: 83})\n"
          ],
          "name": "stdout"
        },
        {
          "output_type": "execute_result",
          "data": {
            "text/plain": [
              "0    327\n",
              "3     35\n",
              "2     18\n",
              "4     13\n",
              "5      9\n",
              "6      8\n",
              "1      7\n",
              "7      1\n",
              "Name: Cabin, dtype: int64"
            ]
          },
          "metadata": {
            "tags": []
          },
          "execution_count": 76
        }
      ]
    },
    {
      "cell_type": "markdown",
      "metadata": {
        "id": "Jf0FwkvLy-io",
        "colab_type": "text"
      },
      "source": [
        "[7] Person\n",
        "* 정확도: 0.7924\n",
        "* 남자가 여자와 아이에 비해서 많다.\n",
        "* 하지만, 남자/여자+아이의 비율이 비슷해서 사망률이 크게 높지않다.\n",
        "* 사망: 238, 생존: 180 (418명중에서)"
      ]
    },
    {
      "cell_type": "code",
      "metadata": {
        "id": "hUpo6Mveyu5k",
        "colab_type": "code",
        "colab": {
          "base_uri": "https://localhost:8080/",
          "height": 140
        },
        "outputId": "0952bb4e-a888-4098-8ded-50d7b05bf2a4"
      },
      "source": [
        "person = ['Person']\n",
        "\n",
        "x_train = df_train[person]\n",
        "y_train = df_train['Survived']\n",
        "x_test = df_test[person]\n",
        "\n",
        "model = DecisionTreeClassifier(max_depth =10, max_features = 0.9)\n",
        "model.fit(x_train, y_train)\n",
        "\n",
        "socre = cross_val_score(model, x_train, y_train, scoring = 'accuracy', cv = 10).mean()\n",
        "\n",
        "predicition = model.predict(x_test)\n",
        "\n",
        "print('Person accuracy:',socre)\n",
        "print(predicition.shape)\n",
        "print(collections.Counter(predicition))\n",
        "df_test['Person'].value_counts()"
      ],
      "execution_count": null,
      "outputs": [
        {
          "output_type": "stream",
          "text": [
            "Person accuracy: 0.7923970037453183\n",
            "(418,)\n",
            "Counter({0: 238, 1: 180})\n"
          ],
          "name": "stdout"
        },
        {
          "output_type": "execute_result",
          "data": {
            "text/plain": [
              "0    238\n",
              "1    146\n",
              "2     34\n",
              "Name: Person, dtype: int64"
            ]
          },
          "metadata": {
            "tags": []
          },
          "execution_count": 77
        }
      ]
    },
    {
      "cell_type": "markdown",
      "metadata": {
        "id": "WJQGtfpHy5UU",
        "colab_type": "text"
      },
      "source": [
        "[8] Family\n",
        "* 정확도: 0.6679\n",
        "* 사망: 273, 생존: 145 (418명중에서)"
      ]
    },
    {
      "cell_type": "code",
      "metadata": {
        "id": "ao89MHehy4zc",
        "colab_type": "code",
        "colab": {
          "base_uri": "https://localhost:8080/",
          "height": 246
        },
        "outputId": "ac049553-479f-473a-8090-d1651064d04c"
      },
      "source": [
        "family = ['Family']\n",
        "\n",
        "x_train = df_train[family]\n",
        "y_train = df_train['Survived']\n",
        "x_test = df_test[family]\n",
        "\n",
        "model = DecisionTreeClassifier(max_depth =10, max_features = 0.9)\n",
        "model.fit(x_train, y_train)\n",
        "\n",
        "socre = cross_val_score(model, x_train, y_train, scoring = 'accuracy', cv = 10).mean()\n",
        "\n",
        "predicition = model.predict(x_test)\n",
        "\n",
        "print('Family accuracy:',socre)\n",
        "print(predicition.shape)\n",
        "print(collections.Counter(predicition))\n",
        "df_test['Family'].value_counts()"
      ],
      "execution_count": null,
      "outputs": [
        {
          "output_type": "stream",
          "text": [
            "Family accuracy: 0.6678901373283396\n",
            "(418,)\n",
            "Counter({0: 273, 1: 145})\n"
          ],
          "name": "stdout"
        },
        {
          "output_type": "execute_result",
          "data": {
            "text/plain": [
              "1     253\n",
              "2      74\n",
              "3      57\n",
              "4      14\n",
              "5       7\n",
              "11      4\n",
              "7       4\n",
              "6       3\n",
              "8       2\n",
              "Name: Family, dtype: int64"
            ]
          },
          "metadata": {
            "tags": []
          },
          "execution_count": 78
        }
      ]
    },
    {
      "cell_type": "code",
      "metadata": {
        "id": "UIfXLZ4ID6Fl",
        "colab_type": "code",
        "colab": {}
      },
      "source": [
        "submission_lr_cv = pd.DataFrame()\n",
        "submission_lr_cv['id'] = test['id']\n",
        "submission_lr_cv.to_csv(file_directiory+ '\\\\' + 'submission_lr_cv.csv', index = Flase)"
      ],
      "execution_count": null,
      "outputs": []
    },
    {
      "cell_type": "code",
      "metadata": {
        "id": "HfCgZX1vEfih",
        "colab_type": "code",
        "colab": {}
      },
      "source": [
        ""
      ],
      "execution_count": null,
      "outputs": []
    }
  ]
}